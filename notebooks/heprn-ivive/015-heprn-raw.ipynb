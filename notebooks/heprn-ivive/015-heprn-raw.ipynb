{
 "cells": [
  {
   "cell_type": "code",
   "execution_count": 1,
   "metadata": {},
   "outputs": [
    {
     "name": "stdout",
     "output_type": "stream",
     "text": [
      "Populating the interactive namespace from numpy and matplotlib\n"
     ]
    },
    {
     "name": "stderr",
     "output_type": "stream",
     "text": [
      "/opt/miniconda3/envs/tiptox/lib/python3.8/site-packages/rpy2/robjects/pandas2ri.py:14: FutureWarning: pandas.core.index is deprecated and will be removed in a future version.  The public classes are available in the top-level namespace.\n",
      "  from pandas.core.index import Index as PandasIndex\n",
      "/opt/miniconda3/envs/tiptox/lib/python3.8/site-packages/rpy2/robjects/pandas2ri.py:34: UserWarning: pandas >= 1.0 is not supported.\n",
      "  warnings.warn('pandas >= 1.0 is not supported.')\n"
     ]
    },
    {
     "data": {
      "text/html": [
       "<style>.container {width:80% !important;}</style>"
      ],
      "text/plain": [
       "<IPython.core.display.HTML object>"
      ]
     },
     "metadata": {},
     "output_type": "display_data"
    }
   ],
   "source": [
    "# %load ../startup.py\n",
    "import os,sys\n",
    "from dotenv import load_dotenv, find_dotenv\n",
    "\n",
    "load_dotenv(find_dotenv())\n",
    "\n",
    "os.environ['PYTHONPATH']=os.environ.get('LIB')\n",
    "if not os.environ.get('LIB') in sys.path: \n",
    "    sys.path.insert(0,os.environ.get('LIB'))\n",
    "\n",
    "DAT_DIR = os.environ.get('DAT_DIR')    \n",
    "\n",
    "%load_ext autoreload\n",
    "%autoreload 2\n",
    "%pylab inline\n",
    "%matplotlib inline\n",
    "%load_ext rpy2.ipython\n",
    "\n",
    "import matplotlib.text as text\n",
    "import pandas as pd\n",
    "import numpy as np\n",
    "import pylab as pl\n",
    "import scipy as sp\n",
    "import sys\n",
    "import rpy2 \n",
    "import os \n",
    "from matplotlib import gridspec\n",
    "from scipy.interpolate import splev, splrep\n",
    "import xlwt\n",
    "import seaborn as sns\n",
    "from scipy import stats\n",
    "import rpy2.robjects.packages as rpackages\n",
    "import seaborn as sns\n",
    "from statsmodels import robust\n",
    "\n",
    "\n",
    "from heprnhci.db.mongo import *\n",
    "\n",
    "\n",
    "from IPython.core.display import display, HTML\n",
    "display(HTML(\"<style>.container {width:80% !important;}</style>\")) # increase jupyter screen width to 100%\n",
    "pd.options.display.max_colwidth = 500\n",
    "pd.set_option('display.precision',2)\n",
    "\n",
    "HCI=openMongo(db=os.environ.get('MONGO_HCIDB'),host=os.environ.get('MONGO_HOST'),auth=False)\n"
   ]
  },
  {
   "cell_type": "markdown",
   "metadata": {},
   "source": [
    "# Goal\n",
    "\n",
    "Load, process and normalize raw data\n",
    "\n"
   ]
  },
  {
   "cell_type": "markdown",
   "metadata": {},
   "source": [
    "# Read raw data"
   ]
  },
  {
   "cell_type": "code",
   "execution_count": 2,
   "metadata": {},
   "outputs": [],
   "source": [
    "RW0 = pd.read_csv(DAT_DIR+'cyprotex-heprn2-jul-2017-raw-v2.csv')\\\n",
    "        .drop_duplicates()"
   ]
  },
  {
   "cell_type": "code",
   "execution_count": 16,
   "metadata": {},
   "outputs": [
    {
     "name": "stderr",
     "output_type": "stream",
     "text": [
      "/share/home/ishah/.conda/envs/py27a/lib/python2.7/site-packages/ipykernel_launcher.py:1: DeprecationWarning: count is deprecated. Use Collection.count_documents instead.\n",
      "  \"\"\"Entry point for launching an IPython kernel.\n"
     ]
    },
    {
     "data": {
      "text/plain": [
       "<pymongo.results.UpdateResult at 0x7faa0cafe368>"
      ]
     },
     "execution_count": 16,
     "metadata": {},
     "output_type": "execute_result"
    }
   ],
   "source": [
    "HCI.chemicals.find(dict(stype={'$exists':0})).count()\n",
    "HCI.chemicals.update_many(dict(stype={'$exists':0}),\n",
    "                          {'$set':dict(stype='test chem')})"
   ]
  },
  {
   "cell_type": "markdown",
   "metadata": {},
   "source": [
    "### load chemical information"
   ]
  },
  {
   "cell_type": "code",
   "execution_count": 17,
   "metadata": {},
   "outputs": [
    {
     "data": {
      "text/html": [
       "<div>\n",
       "<style scoped>\n",
       "    .dataframe tbody tr th:only-of-type {\n",
       "        vertical-align: middle;\n",
       "    }\n",
       "\n",
       "    .dataframe tbody tr th {\n",
       "        vertical-align: top;\n",
       "    }\n",
       "\n",
       "    .dataframe thead th {\n",
       "        text-align: right;\n",
       "    }\n",
       "</style>\n",
       "<table border=\"1\" class=\"dataframe\">\n",
       "  <thead>\n",
       "    <tr style=\"text-align: right;\">\n",
       "      <th></th>\n",
       "      <th>QSAR_READY_SMILES</th>\n",
       "      <th>casrn</th>\n",
       "      <th>chem_name</th>\n",
       "      <th>dsstox_sid</th>\n",
       "      <th>found_by</th>\n",
       "      <th>name</th>\n",
       "      <th>sample_id</th>\n",
       "      <th>stype</th>\n",
       "    </tr>\n",
       "  </thead>\n",
       "  <tbody>\n",
       "    <tr>\n",
       "      <th>0</th>\n",
       "      <td>CN(C)N</td>\n",
       "      <td>57-14-7</td>\n",
       "      <td>1,1-Dimethylhydrazine</td>\n",
       "      <td>DTXSID1020516</td>\n",
       "      <td>Approved Name</td>\n",
       "      <td>1,1-Dimethylhydrazine</td>\n",
       "      <td>TP0001526G01</td>\n",
       "      <td>chem_test</td>\n",
       "    </tr>\n",
       "    <tr>\n",
       "      <th>1</th>\n",
       "      <td>[O-][N+](=O)C1=CC=C(Cl)C=C1</td>\n",
       "      <td>100-00-5</td>\n",
       "      <td>1-Chloro-4-nitrobenzene</td>\n",
       "      <td>DTXSID5020281</td>\n",
       "      <td>Approved Name</td>\n",
       "      <td>1-Chloro-4-nitrobenzene</td>\n",
       "      <td>TP0001526F03</td>\n",
       "      <td>chem_test</td>\n",
       "    </tr>\n",
       "    <tr>\n",
       "      <th>2</th>\n",
       "      <td>OC(=O)COC1=C(Cl)C=C(Cl)C=C1</td>\n",
       "      <td>94-75-7</td>\n",
       "      <td>2,4-Dichlorophenoxyacetic acid</td>\n",
       "      <td>DTXSID0020442</td>\n",
       "      <td>Approved Name</td>\n",
       "      <td>2,4-Dichlorophenoxyacetic acid</td>\n",
       "      <td>TP0001526H06</td>\n",
       "      <td>chem_test</td>\n",
       "    </tr>\n",
       "    <tr>\n",
       "      <th>3</th>\n",
       "      <td>CCCCOCCO</td>\n",
       "      <td>111-76-2</td>\n",
       "      <td>2-Butoxyethanol</td>\n",
       "      <td>DTXSID1024097</td>\n",
       "      <td>Approved Name</td>\n",
       "      <td>2-Butoxyethanol</td>\n",
       "      <td>TP0001526B01</td>\n",
       "      <td>chem_test</td>\n",
       "    </tr>\n",
       "    <tr>\n",
       "      <th>4</th>\n",
       "      <td>CC1=C(N)C=C(C=C1)[N+]([O-])=O</td>\n",
       "      <td>99-55-8</td>\n",
       "      <td>2-Methyl-5-nitroaniline</td>\n",
       "      <td>DTXSID4020959</td>\n",
       "      <td>Approved Name</td>\n",
       "      <td>2-Methyl-5-nitroaniline</td>\n",
       "      <td>TP0001526H02</td>\n",
       "      <td>chem_test</td>\n",
       "    </tr>\n",
       "  </tbody>\n",
       "</table>\n",
       "</div>"
      ],
      "text/plain": [
       "               QSAR_READY_SMILES     casrn                       chem_name  \\\n",
       "0                         CN(C)N   57-14-7           1,1-Dimethylhydrazine   \n",
       "1    [O-][N+](=O)C1=CC=C(Cl)C=C1  100-00-5         1-Chloro-4-nitrobenzene   \n",
       "2    OC(=O)COC1=C(Cl)C=C(Cl)C=C1   94-75-7  2,4-Dichlorophenoxyacetic acid   \n",
       "3                       CCCCOCCO  111-76-2                 2-Butoxyethanol   \n",
       "4  CC1=C(N)C=C(C=C1)[N+]([O-])=O   99-55-8         2-Methyl-5-nitroaniline   \n",
       "\n",
       "      dsstox_sid       found_by                            name     sample_id  \\\n",
       "0  DTXSID1020516  Approved Name           1,1-Dimethylhydrazine  TP0001526G01   \n",
       "1  DTXSID5020281  Approved Name         1-Chloro-4-nitrobenzene  TP0001526F03   \n",
       "2  DTXSID0020442  Approved Name  2,4-Dichlorophenoxyacetic acid  TP0001526H06   \n",
       "3  DTXSID1024097  Approved Name                 2-Butoxyethanol  TP0001526B01   \n",
       "4  DTXSID4020959  Approved Name         2-Methyl-5-nitroaniline  TP0001526H02   \n",
       "\n",
       "       stype  \n",
       "0  chem_test  \n",
       "1  chem_test  \n",
       "2  chem_test  \n",
       "3  chem_test  \n",
       "4  chem_test  "
      ]
     },
     "execution_count": 17,
     "metadata": {},
     "output_type": "execute_result"
    }
   ],
   "source": [
    "CH0 = pd.DataFrame(list(HCI.chemicals.find({},dict(_id=0))),\n",
    "                   )\n",
    "CH0.head()"
   ]
  },
  {
   "cell_type": "code",
   "execution_count": 85,
   "metadata": {},
   "outputs": [],
   "source": [
    "#Chems=list(HCI.chemicals.find({},dict(_id=0)))"
   ]
  },
  {
   "cell_type": "markdown",
   "metadata": {},
   "source": [
    "### Store chemical information"
   ]
  },
  {
   "cell_type": "code",
   "execution_count": 18,
   "metadata": {},
   "outputs": [],
   "source": [
    "SID=RW0[['sample_id','dsstox_sid']].drop_duplicates().reset_index()"
   ]
  },
  {
   "cell_type": "code",
   "execution_count": 87,
   "metadata": {
    "scrolled": true
   },
   "outputs": [
    {
     "name": "stdout",
     "output_type": "stream",
     "text": [
      "DTXSID0032655 TP0001526B06\n",
      "DTXSID0023901 TP0001526B07\n",
      "DTXSID2039336 TP0001526B08\n",
      "DTXSID2032390 TP0001526B09\n",
      "DTXSID9032581 TP0001526B10\n",
      "DTXSID9032329 TP0001526B11\n",
      "DTXSID3044203 TP0001526C01\n",
      "DTXSID8034580 TP0001526C02\n",
      "DTXSID3034872 TP0001526C03\n",
      "DTXSID7020348 TP0001526C04\n",
      "DTXSID4022448 TP0001526C05\n",
      "DTXSID3024235 TP0001526C06\n",
      "DTXSID8020961 TP0001526C07\n",
      "DTXSID2032398 TP0001526C08\n",
      "DTXSID3024239 TP0001526C09\n",
      "DTXSID5032498 TP0001526C10\n",
      "DTXSID8024652 TP0001526A01\n",
      "DTXSID2020006 TP0001526A02\n",
      "DTXSID0032601 TP0001526A03\n",
      "DTXSID4024195 TP0001526A04\n",
      "DTXSID6032354 TP0001526A05\n",
      "DTXSID4021268 TP0001526A06\n",
      "DTXSID9032379 TP0001526A07\n",
      "DTXSID2020420 TP0001526A08\n",
      "DTXSID8024159 TP0001526A09\n",
      "DTXSID3034402 TP0001526A10\n",
      "DTXSID2032500 TP0001526A11\n",
      "DTXSID1024097 TP0001526B01\n",
      "DTXSID1020647 TP0001526B02\n",
      "DTXSID5032365 TP0001526B03\n",
      "DTXSID8020127 TP0001526B04\n",
      "DTXSID2021105 TP0001526B05\n",
      "DTXSID8035180 TP0001526C11\n",
      "DTXSID3047344 TP0001526D01\n",
      "DTXSID6034392 TP0001526D02\n",
      "DTXSID3020336 TP0001526D03\n",
      "DTXSID8034877 TP0001526D04\n",
      "DTXSID3023897 TP0001526D05\n",
      "DTXSID5032442 TP0001526D06\n",
      "DTXSID1032359 TP0001526D07\n",
      "DTXSID1022265 TP0001526D08\n",
      "DTXSID6034849 TP0001526D09\n",
      "DTXSID2020686 TP0001526D10\n",
      "DTXSID0034930 TP0001526D11\n",
      "DTXSID6020515 TP0001526E01\n",
      "DTXSID8034586 TP0001526E02\n",
      "DTXSID8032673 TP0001526E03\n",
      "DTXSID4034653 TP0001526E04\n",
      "DTXSID8032548 TP0001526E05\n",
      "DTXSID1023869 TP0001526E06\n",
      "DTXSID0021385 TP0001526E07\n",
      "DTXSID7022253 TP0001526E08\n",
      "DTXSID9020243 TP0001526E09\n",
      "DTXSID2047303 TP0001526E10\n",
      "DTXSID1032642 TP0001526E11\n",
      "DTXSID7024081 TP0001526F01\n",
      "DTXSID5034723 TP0001526F02\n",
      "DTXSID5020281 TP0001526F03\n",
      "DTXSID5020811 TP0001526F04\n",
      "DTXSID8020620 TP0001526F05\n",
      "DTXSID8024151 TP0001526F06\n",
      "DTXSID7034676 TP0001526F07\n",
      "DTXSID1020855 TP0001526F08\n",
      "DTXSID4021975 TP0001526F09\n",
      "DTXSID8022292 TP0001526F10\n",
      "DTXSID9034650 TP0001526F11\n",
      "DTXSID1020516 TP0001526G01\n",
      "DTXSID5034773 TP0001526G02\n",
      "DTXSID5032600 TP0001526G03\n",
      "DTXSID0032651 TP0001526G04\n",
      "DTXSID0021389 TP0001526G05\n",
      "DTXSID9020247 TP0001526G06\n",
      "DTXSID8034956 TP0001526G07\n",
      "DTXSID0020446 TP0001526G08\n",
      "DTXSID2032552 TP0001526G09\n",
      "DTXSID5020607 TP0001526G10\n",
      "DTXSID7020182 TP0001526G11\n",
      "DTXSID5029055 TP0001526H01\n",
      "DTXSID4020959 TP0001526H02\n",
      "DTXSID4032611 TP0001526H03\n",
      "DTXSID6034928 TP0001526H04\n",
      "DTXSID7024160 TP0001526H05\n",
      "DTXSID0020442 TP0001526H06\n",
      "DTXSID4032376 TP0001526H07\n",
      "DTXSID7020764 TP0001526H08\n",
      "DTXSID8023848 TP0001526H09\n",
      "DTXSID8020040 TP0001526H10\n",
      "DTXSID8023719 TP0001526H11\n"
     ]
    }
   ],
   "source": [
    "for x in SID.itertuples():\n",
    "    if x.dsstox_sid==x.dsstox_sid:\n",
    "        print x.dsstox_sid,x.sample_id\n",
    "        HCI.chemicals.update_one(dict(dsstox_sid=x.dsstox_sid),\n",
    "                               {'$set':dict(sample_id=x.sample_id)})"
   ]
  },
  {
   "cell_type": "code",
   "execution_count": 19,
   "metadata": {},
   "outputs": [
    {
     "data": {
      "text/html": [
       "<div>\n",
       "<style scoped>\n",
       "    .dataframe tbody tr th:only-of-type {\n",
       "        vertical-align: middle;\n",
       "    }\n",
       "\n",
       "    .dataframe tbody tr th {\n",
       "        vertical-align: top;\n",
       "    }\n",
       "\n",
       "    .dataframe thead th {\n",
       "        text-align: right;\n",
       "    }\n",
       "</style>\n",
       "<table border=\"1\" class=\"dataframe\">\n",
       "  <thead>\n",
       "    <tr style=\"text-align: right;\">\n",
       "      <th></th>\n",
       "      <th>dsstox_sid</th>\n",
       "      <th>sample_id</th>\n",
       "      <th>casrn</th>\n",
       "      <th>name</th>\n",
       "      <th>stype</th>\n",
       "    </tr>\n",
       "  </thead>\n",
       "  <tbody>\n",
       "    <tr>\n",
       "      <th>0</th>\n",
       "      <td>DTXSID1020516</td>\n",
       "      <td>TP0001526G01</td>\n",
       "      <td>57-14-7</td>\n",
       "      <td>1,1-Dimethylhydrazine</td>\n",
       "      <td>chem_test</td>\n",
       "    </tr>\n",
       "    <tr>\n",
       "      <th>1</th>\n",
       "      <td>DTXSID5020281</td>\n",
       "      <td>TP0001526F03</td>\n",
       "      <td>100-00-5</td>\n",
       "      <td>1-Chloro-4-nitrobenzene</td>\n",
       "      <td>chem_test</td>\n",
       "    </tr>\n",
       "    <tr>\n",
       "      <th>2</th>\n",
       "      <td>DTXSID0020442</td>\n",
       "      <td>TP0001526H06</td>\n",
       "      <td>94-75-7</td>\n",
       "      <td>2,4-Dichlorophenoxyacetic acid</td>\n",
       "      <td>chem_test</td>\n",
       "    </tr>\n",
       "    <tr>\n",
       "      <th>3</th>\n",
       "      <td>DTXSID1024097</td>\n",
       "      <td>TP0001526B01</td>\n",
       "      <td>111-76-2</td>\n",
       "      <td>2-Butoxyethanol</td>\n",
       "      <td>chem_test</td>\n",
       "    </tr>\n",
       "    <tr>\n",
       "      <th>4</th>\n",
       "      <td>DTXSID4020959</td>\n",
       "      <td>TP0001526H02</td>\n",
       "      <td>99-55-8</td>\n",
       "      <td>2-Methyl-5-nitroaniline</td>\n",
       "      <td>chem_test</td>\n",
       "    </tr>\n",
       "  </tbody>\n",
       "</table>\n",
       "</div>"
      ],
      "text/plain": [
       "      dsstox_sid     sample_id     casrn                            name  \\\n",
       "0  DTXSID1020516  TP0001526G01   57-14-7           1,1-Dimethylhydrazine   \n",
       "1  DTXSID5020281  TP0001526F03  100-00-5         1-Chloro-4-nitrobenzene   \n",
       "2  DTXSID0020442  TP0001526H06   94-75-7  2,4-Dichlorophenoxyacetic acid   \n",
       "3  DTXSID1024097  TP0001526B01  111-76-2                 2-Butoxyethanol   \n",
       "4  DTXSID4020959  TP0001526H02   99-55-8         2-Methyl-5-nitroaniline   \n",
       "\n",
       "       stype  \n",
       "0  chem_test  \n",
       "1  chem_test  \n",
       "2  chem_test  \n",
       "3  chem_test  \n",
       "4  chem_test  "
      ]
     },
     "execution_count": 19,
     "metadata": {},
     "output_type": "execute_result"
    }
   ],
   "source": [
    "CHM0=pd.DataFrame(list(HCI.chemicals.find({},dict(_id=0))),\n",
    "                  columns=['dsstox_sid','sample_id','casrn','chem_name','stype'])\\\n",
    "    .rename(columns=dict(chem_name='name'))\n",
    "CHM0.head()"
   ]
  },
  {
   "cell_type": "code",
   "execution_count": 20,
   "metadata": {},
   "outputs": [
    {
     "data": {
      "text/plain": [
       "chem_test    88\n",
       "ctrl+         4\n",
       "ctrl-         1\n",
       "Name: stype, dtype: int64"
      ]
     },
     "execution_count": 20,
     "metadata": {},
     "output_type": "execute_result"
    }
   ],
   "source": [
    "CHM0.stype.value_counts()"
   ]
  },
  {
   "cell_type": "markdown",
   "metadata": {},
   "source": [
    "## Name the features "
   ]
  },
  {
   "cell_type": "code",
   "execution_count": 21,
   "metadata": {},
   "outputs": [
    {
     "data": {
      "text/html": [
       "<div>\n",
       "<style scoped>\n",
       "    .dataframe tbody tr th:only-of-type {\n",
       "        vertical-align: middle;\n",
       "    }\n",
       "\n",
       "    .dataframe tbody tr th {\n",
       "        vertical-align: top;\n",
       "    }\n",
       "\n",
       "    .dataframe thead th {\n",
       "        text-align: right;\n",
       "    }\n",
       "</style>\n",
       "<table border=\"1\" class=\"dataframe\">\n",
       "  <thead>\n",
       "    <tr style=\"text-align: right;\">\n",
       "      <th></th>\n",
       "      <th>channel_name</th>\n",
       "      <th>feature_name</th>\n",
       "      <th>FN0</th>\n",
       "      <th>FN1</th>\n",
       "      <th>FA0</th>\n",
       "      <th>FA1</th>\n",
       "    </tr>\n",
       "  </thead>\n",
       "  <tbody>\n",
       "    <tr>\n",
       "      <th>0</th>\n",
       "      <td>Hoechst - Nuclei</td>\n",
       "      <td>MEAN_ObjectVarIntenCh1</td>\n",
       "      <td>DNATexture</td>\n",
       "      <td>DNATexture</td>\n",
       "      <td>DT</td>\n",
       "      <td>DT</td>\n",
       "    </tr>\n",
       "    <tr>\n",
       "      <th>1</th>\n",
       "      <td>TMRE</td>\n",
       "      <td>%HIGH_RingSpotAvgIntenCh2</td>\n",
       "      <td>MitoFxnI</td>\n",
       "      <td>MitoFxnI</td>\n",
       "      <td>MF</td>\n",
       "      <td>MF</td>\n",
       "    </tr>\n",
       "    <tr>\n",
       "      <th>2</th>\n",
       "      <td>LTRed TRITC</td>\n",
       "      <td>MEAN_RingSpotAvgIntenCh2</td>\n",
       "      <td>LysosomalMass</td>\n",
       "      <td>LysosomalMass</td>\n",
       "      <td>LM</td>\n",
       "      <td>LM</td>\n",
       "    </tr>\n",
       "    <tr>\n",
       "      <th>3</th>\n",
       "      <td>Hoechst focus</td>\n",
       "      <td>MEAN_ObjectSizeCh1</td>\n",
       "      <td>NuclearSize1</td>\n",
       "      <td>NuclearSize</td>\n",
       "      <td>NS1</td>\n",
       "      <td>NS</td>\n",
       "    </tr>\n",
       "    <tr>\n",
       "      <th>4</th>\n",
       "      <td>Hoechst focus</td>\n",
       "      <td>SelectedObjectCountPerValidField</td>\n",
       "      <td>CellNumber1</td>\n",
       "      <td>CellNumber</td>\n",
       "      <td>CN1</td>\n",
       "      <td>CN</td>\n",
       "    </tr>\n",
       "    <tr>\n",
       "      <th>5</th>\n",
       "      <td>CY3-GADD153</td>\n",
       "      <td>MEAN_CircAvgIntenCh2</td>\n",
       "      <td>ERStress</td>\n",
       "      <td>ERStress</td>\n",
       "      <td>ES</td>\n",
       "      <td>ES</td>\n",
       "    </tr>\n",
       "    <tr>\n",
       "      <th>6</th>\n",
       "      <td>Cy5-CYTO C</td>\n",
       "      <td>MEAN_CircAvgIntenCh3</td>\n",
       "      <td>Apoptosis</td>\n",
       "      <td>Apoptosis</td>\n",
       "      <td>Ap</td>\n",
       "      <td>Ap</td>\n",
       "    </tr>\n",
       "    <tr>\n",
       "      <th>7</th>\n",
       "      <td>Nuclei</td>\n",
       "      <td>MEAN_ObjectSizeCh1</td>\n",
       "      <td>NuclearSize2</td>\n",
       "      <td>NuclearSize</td>\n",
       "      <td>NS2</td>\n",
       "      <td>NS</td>\n",
       "    </tr>\n",
       "    <tr>\n",
       "      <th>8</th>\n",
       "      <td>Nuclei</td>\n",
       "      <td>SelectedObjectCountPerValidField</td>\n",
       "      <td>CellNumber2</td>\n",
       "      <td>CellNumber</td>\n",
       "      <td>CN2</td>\n",
       "      <td>CN</td>\n",
       "    </tr>\n",
       "    <tr>\n",
       "      <th>9</th>\n",
       "      <td>LipidTox-Cy5 kernel 3</td>\n",
       "      <td>MEAN_RingSpotAvgAreaCh2</td>\n",
       "      <td>Steatosis</td>\n",
       "      <td>Steatosis</td>\n",
       "      <td>St</td>\n",
       "      <td>St</td>\n",
       "    </tr>\n",
       "  </tbody>\n",
       "</table>\n",
       "</div>"
      ],
      "text/plain": [
       "            channel_name                      feature_name            FN0  \\\n",
       "0       Hoechst - Nuclei            MEAN_ObjectVarIntenCh1     DNATexture   \n",
       "1                   TMRE         %HIGH_RingSpotAvgIntenCh2       MitoFxnI   \n",
       "2            LTRed TRITC          MEAN_RingSpotAvgIntenCh2  LysosomalMass   \n",
       "3          Hoechst focus                MEAN_ObjectSizeCh1   NuclearSize1   \n",
       "4          Hoechst focus  SelectedObjectCountPerValidField    CellNumber1   \n",
       "5            CY3-GADD153              MEAN_CircAvgIntenCh2       ERStress   \n",
       "6             Cy5-CYTO C              MEAN_CircAvgIntenCh3      Apoptosis   \n",
       "7                 Nuclei                MEAN_ObjectSizeCh1   NuclearSize2   \n",
       "8                 Nuclei  SelectedObjectCountPerValidField    CellNumber2   \n",
       "9  LipidTox-Cy5 kernel 3           MEAN_RingSpotAvgAreaCh2      Steatosis   \n",
       "\n",
       "             FN1  FA0 FA1  \n",
       "0     DNATexture   DT  DT  \n",
       "1       MitoFxnI   MF  MF  \n",
       "2  LysosomalMass   LM  LM  \n",
       "3    NuclearSize  NS1  NS  \n",
       "4     CellNumber  CN1  CN  \n",
       "5       ERStress   ES  ES  \n",
       "6      Apoptosis   Ap  Ap  \n",
       "7    NuclearSize  NS2  NS  \n",
       "8     CellNumber  CN2  CN  \n",
       "9      Steatosis   St  St  "
      ]
     },
     "execution_count": 21,
     "metadata": {},
     "output_type": "execute_result"
    }
   ],
   "source": [
    "FN0=['DNATexture','MitoFxnI','LysosomalMass','NuclearSize1','CellNumber1','ERStress',\n",
    "       'Apoptosis','NuclearSize2','CellNumber2','Steatosis']\n",
    "FA0 =['DT','MF','LM','NS1','CN1','ES','Ap','NS2','CN2','St']\n",
    "FN1=['DNATexture','MitoFxnI','LysosomalMass','NuclearSize','CellNumber','ERStress',\n",
    "       'Apoptosis','NuclearSize','CellNumber','Steatosis']\n",
    "FA1 =['DT','MF','LM','NS','CN','ES','Ap','NS','CN','St']\n",
    "\n",
    "#RW0[['channel_name','feature_name']].drop_duplicates().to_dict('records')\n",
    "HCIFT = RW0[['channel_name','feature_name']].drop_duplicates().reset_index(drop=True)\n",
    "HCIFT['FN0']=FN0\n",
    "HCIFT['FN1']=FN1\n",
    "HCIFT['FA0']=FA0\n",
    "HCIFT['FA1']=FA1\n",
    "HCIFT\n"
   ]
  },
  {
   "cell_type": "code",
   "execution_count": 22,
   "metadata": {},
   "outputs": [],
   "source": [
    "RW1 = RW0.merge(HCIFT,left_on=['channel_name','feature_name'],\n",
    "                right_on=['channel_name','feature_name'])"
   ]
  },
  {
   "cell_type": "markdown",
   "metadata": {},
   "source": [
    "### Fix the reference chemicals ..."
   ]
  },
  {
   "cell_type": "code",
   "execution_count": 23,
   "metadata": {},
   "outputs": [],
   "source": [
    "CTRL0={'bupivacaine':'BPVC',\n",
    "       'carbonyl cyanide 3-chlorophenylhydrazone':'CCCP',\n",
    "       'nimesulide':'NMSL',\n",
    "       'tamoxifen':'TMXF'}\n",
    "\n",
    "RW1.replace(dict(sample_id=CTRL0),inplace=True)\n",
    "#RW1.replace(dict(casrn=CTRL0),inplace=True)\n"
   ]
  },
  {
   "cell_type": "code",
   "execution_count": 24,
   "metadata": {},
   "outputs": [
    {
     "data": {
      "text/plain": [
       "(93, 93)"
      ]
     },
     "execution_count": 24,
     "metadata": {},
     "output_type": "execute_result"
    }
   ],
   "source": [
    "RW1.head().T\n",
    "len(RW1.sample_id.unique()),len(CHM0.sample_id.unique())"
   ]
  },
  {
   "cell_type": "code",
   "execution_count": 25,
   "metadata": {},
   "outputs": [
    {
     "data": {
      "text/plain": [
       "array(['DMSO', 'BPVC', 'CCCP', 'NMSL', 'TMXF'], dtype=object)"
      ]
     },
     "execution_count": 25,
     "metadata": {},
     "output_type": "execute_result"
    }
   ],
   "source": [
    "RW1.sample_id[RW1.sample_id.str[:2]!='TP'].unique()"
   ]
  },
  {
   "cell_type": "code",
   "execution_count": 26,
   "metadata": {},
   "outputs": [],
   "source": [
    "RW2=RW1.drop(['dsstox_sid','name','casrn'],axis=1)\\\n",
    "        .merge(CHM0,left_on='sample_id',right_on='sample_id',how='left')"
   ]
  },
  {
   "cell_type": "code",
   "execution_count": 27,
   "metadata": {},
   "outputs": [
    {
     "data": {
      "text/plain": [
       "chem_test    105600\n",
       "ctrl+         14400\n",
       "ctrl-          7200\n",
       "Name: stype, dtype: int64"
      ]
     },
     "execution_count": 27,
     "metadata": {},
     "output_type": "execute_result"
    }
   ],
   "source": [
    "RW2.stype.value_counts()"
   ]
  },
  {
   "cell_type": "code",
   "execution_count": 28,
   "metadata": {},
   "outputs": [
    {
     "data": {
      "text/plain": [
       "((127200, 17), (127200, 18))"
      ]
     },
     "execution_count": 28,
     "metadata": {},
     "output_type": "execute_result"
    }
   ],
   "source": [
    "RW1.shape,RW2.shape"
   ]
  },
  {
   "cell_type": "markdown",
   "metadata": {},
   "source": [
    "Fix the DMSO concentration set to 0"
   ]
  },
  {
   "cell_type": "code",
   "execution_count": 29,
   "metadata": {},
   "outputs": [
    {
     "data": {
      "text/plain": [
       "array([u'ctrl-'], dtype=object)"
      ]
     },
     "execution_count": 29,
     "metadata": {},
     "output_type": "execute_result"
    }
   ],
   "source": [
    "RW2.stype[RW2.conc.isna()].unique()"
   ]
  },
  {
   "cell_type": "code",
   "execution_count": 30,
   "metadata": {},
   "outputs": [
    {
     "name": "stderr",
     "output_type": "stream",
     "text": [
      "/share/home/ishah/.conda/envs/py27a/lib/python2.7/site-packages/ipykernel_launcher.py:1: SettingWithCopyWarning: \n",
      "A value is trying to be set on a copy of a slice from a DataFrame\n",
      "\n",
      "See the caveats in the documentation: http://pandas.pydata.org/pandas-docs/stable/indexing.html#indexing-view-versus-copy\n",
      "  \"\"\"Entry point for launching an IPython kernel.\n"
     ]
    }
   ],
   "source": [
    "RW2.conc[RW2.conc.isna()]=0"
   ]
  },
  {
   "cell_type": "markdown",
   "metadata": {},
   "source": [
    "# Store raw data by plate"
   ]
  },
  {
   "cell_type": "code",
   "execution_count": 31,
   "metadata": {},
   "outputs": [
    {
     "name": "stdout",
     "output_type": "stream",
     "text": [
      "HCS-UC-W73_160624150001 24\n",
      "HCS-UC-W73_160624160002 24\n",
      "HCS-UC-W73_160625080001 72\n",
      "HCS-UC-W73_160625080002 72\n",
      "HCS-UC-W73_160628150001 48\n",
      "HCS-UC-W73_160629070001 48\n",
      "HCS-UC-W73_160712160001 1\n",
      "HCS-UC-W73_160712170001 1\n",
      "HCS-UC-W73_160712170002 3\n",
      "HCS-UC-W73_160712180001 3\n",
      "HCS-UC-W73_160713080001 24\n",
      "HCS-UC-W73_160713080002 1\n",
      "HCS-UC-W73_160713090001 1\n",
      "HCS-UC-W73_160713090002 1\n",
      "HCS-UC-W73_160713090003 6\n",
      "HCS-UC-W73_160713100001 3\n",
      "HCS-UC-W73_160713100002 3\n",
      "HCS-UC-W73_160713100003 6\n",
      "HCS-UC-W73_160713110001 24\n",
      "HCS-UC-W73_160713110002 1\n",
      "HCS-UC-W73_160713110003 3\n",
      "HCS-UC-W73_160713120001 6\n",
      "HCS-UC-W73_160713170001 6\n",
      "HCS-UC-W73_160713170002 3\n",
      "HCS-UC-W73_160714170001 1\n",
      "HCS-UC-W73_160720080001 6\n",
      "HCS-UC-W73_160720160001 72\n",
      "HCS-UC-W73_160720170001 48\n",
      "HCS-UC-W73_160721130002 48\n",
      "HCS-UC-W73_160721160001 72\n",
      "HCS-US-W71_160624150001 24\n",
      "HCS-US-W71_160624190001 24\n",
      "HCS-US-W71_160625080002 48\n",
      "HCS-US-W71_160628170001 72\n",
      "HCS-US-W71_160629070001 48\n",
      "HCS-US-W71_160706080001 6\n",
      "HCS-US-W71_160706090001 3\n",
      "HCS-US-W71_160706090002 1\n",
      "HCS-US-W71_160706090003 6\n",
      "HCS-US-W71_160706100001 3\n",
      "HCS-US-W71_160706100002 1\n",
      "HCS-US-W71_160712160001 3\n",
      "HCS-US-W71_160712170001 1\n",
      "HCS-US-W71_160712180001 1\n",
      "HCS-US-W71_160712190001 3\n",
      "HCS-US-W71_160712190002 6\n",
      "HCS-US-W71_160712200001 6\n",
      "HCS-US-W71_160713140001 72\n",
      "HCS-US-W71_160714160001 1\n",
      "HCS-US-W71_160714170002 72\n",
      "HCS-US-W71_160714170003 48\n",
      "HCS-US-W71_160714170004 72\n",
      "HCS-US-W71_160714180001 48\n",
      "HCS-US-W71_160719130001 3\n",
      "HCS-US-W71_160719140001 6\n",
      "HCS-US-W71_160719150001 48\n",
      "HCS-US-W71_160720060001 24\n",
      "HCS-US-W71_160720060002 72\n",
      "HCS-US-W71_160720060003 72\n",
      "HCS-US-W71_160720070001 48\n",
      "HCS-US-W71_160720070002 48\n",
      "HCS-US-W71_160720070003 24\n",
      "HCS-US-W71_160720080001 48\n",
      "HCS-US-W71_160720080002 6\n",
      "HCS-US-W71_160720090001 24\n",
      "HCS-US-W71_160720130001 3\n",
      "HCS-US-W71_160720130002 1\n",
      "HCS-US-W71_160720160001 48\n",
      "HCS-US-W71_160720170001 48\n",
      "HCS-US-W71_160721130001 24\n",
      "HCS-US-W71_160721130002 72\n",
      "HCS-US-W71_160721160001 48\n",
      "HCS-US-W71_160722160001 24\n",
      "HCS-US-W71_160722160002 6\n",
      "HCS-US-W71_160726130001 3\n",
      "HCS-US-W71_160726160001 24\n",
      "HCS-US-W71_160727160002 3\n",
      "HCS-US-W71_160727160003 6\n",
      "HCS-US-W72_160624170001 24\n",
      "HCS-US-W72_160624170002 24\n",
      "HCS-US-W72_160624180001 48\n",
      "HCS-US-W72_160624180002 48\n",
      "HCS-US-W72_160624220001 72\n",
      "HCS-US-W72_160624220002 72\n",
      "HCS-US-W72_160624230001 24\n",
      "HCS-US-W72_160625000001 24\n",
      "HCS-US-W72_160625080001 48\n",
      "HCS-US-W72_160628160001 72\n",
      "HCS-US-W72_160629070001 72\n",
      "HCS-US-W72_160712160001 6\n",
      "HCS-US-W72_160712180001 3\n",
      "HCS-US-W72_160712200001 1\n",
      "HCS-US-W72_160712210001 6\n",
      "HCS-US-W72_160712230001 3\n",
      "HCS-US-W72_160713000001 1\n",
      "HCS-US-W72_160713130001 48\n",
      "HCS-US-W72_160713130002 72\n",
      "HCS-US-W72_160713140001 48\n",
      "HCS-US-W72_160714170001 3\n",
      "HCS-US-W72_160719140001 24\n",
      "HCS-US-W72_160719150001 72\n",
      "HCS-US-W72_160720080002 72\n",
      "HCS-US-W72_160720080003 48\n",
      "HCS-US-W72_160720090002 72\n",
      "HCS-US-W72_160720160001 72\n",
      "HCS-US-W72_160720170001 72\n",
      "HCS-US-W72_160721130001 72\n",
      "HCS-US-W72_160721140001 6\n",
      "HCS-US-W72_160721140002 1\n",
      "HCS-US-W72_160721160001 3\n",
      "HCS-US-W72_160721160002 48\n",
      "HCS-US-W72_160727160001 1\n",
      "HCS-US-W72_160727170001 24\n",
      "HCS-US-W72_160728130001 1\n",
      "HCS-US-W72_160729080002 72\n",
      "HCS-US-W72_160729080003 72\n",
      "VTIW01_160628100001 6\n",
      "VTIW01_160628110001 3\n",
      "VTIW01_160628140001 6\n",
      "VTIW01_160628170001 6\n",
      "VTIW01_160629090001 3\n",
      "VTIW01_160710170002 1\n",
      "VTIW01_160711120002 24\n",
      "VTIW01_160711150001 3\n",
      "VTIW01_160712170001 6\n",
      "VTIW01_160712210001 3\n",
      "VTIW01_160713000001 24\n",
      "VTIW01_160713040001 1\n",
      "VTIW01_160713090001 3\n",
      "VTIW01_160714170001 24\n",
      "VTIW01_160715100001 24\n",
      "VTIW01_160715170001 6\n",
      "VTIW01_160716100001 48\n",
      "VTIW01_160717090001 72\n",
      "VTIW01_160718170001 24\n",
      "VTIW01_160727110002 6\n",
      "VTIW01_160727150001 1\n",
      "VTIW02_160627220001 3\n",
      "VTIW02_160628100001 6\n",
      "VTIW02_160628110001 1\n",
      "VTIW02_160628170001 1\n",
      "VTIW02_160629090001 3\n",
      "VTIW02_160710170001 3\n",
      "VTIW02_160711100001 1\n",
      "VTIW02_160711150001 24\n",
      "VTIW02_160711170001 6\n",
      "VTIW02_160712130001 48\n",
      "VTIW02_160713090002 72\n",
      "VTIW02_160714170001 24\n",
      "VTIW02_160715100001 24\n",
      "VTIW02_160715170001 6\n",
      "VTIW02_160716100001 48\n",
      "VTIW02_160717090001 72\n",
      "VTIW02_160720160001 48\n",
      "VTIW02_160720170002 72\n",
      "VTIW02_160726170001 1\n",
      "VTIW02_160727100001 24\n",
      "VTIW02_160728100001 48\n",
      "VTIW02_160729100001 48\n",
      "VTIW03_160627180001 1\n",
      "VTIW03_160627200001 3\n",
      "VTIW03_160628110001 3\n",
      "VTIW03_160628120001 1\n",
      "VTIW03_160628140002 6\n",
      "VTIW03_160628170001 6\n",
      "VTIW03_160629090001 1\n",
      "VTIW03_160710160001 3\n",
      "VTIW03_160711100001 24\n",
      "VTIW03_160711120001 6\n",
      "VTIW03_160711130001 1\n",
      "VTIW03_160711150001 3\n",
      "VTIW03_160711170001 6\n",
      "VTIW03_160712130001 48\n",
      "VTIW03_160713090001 72\n",
      "VTIW03_160718170001 24\n",
      "VTIW03_160721130001 48\n",
      "VTIW03_160721160001 72\n",
      "VTIW03_160727100001 1\n",
      "VTIW03_160727150001 6\n",
      "VTIW03_160728130001 24\n"
     ]
    }
   ],
   "source": [
    "HCI.heprn_raw.drop()\n",
    "\n",
    "for (plate_id,timeh),X in RW2.groupby(['plate_id','timeh']):\n",
    "    print plate_id,timeh\n",
    "    P0 = dict(plate_id=plate_id,\n",
    "              timeh=X.timeh.unique()[0],\n",
    "              assays0=list(X.FN0.unique()),\n",
    "              assays1=list(X.FN1.unique()),\n",
    "              assay_abbrv0=list(X.FA0.unique()),\n",
    "              assay_abbrv1=list(X.FA1.unique()),\n",
    "              samples =list(X.sample_id.unique()),\n",
    "              chemicals=list(X.name.unique()),\n",
    "              dsstox_sids=list(X.dsstox_sid.unique()),\n",
    "              ctrl=dict(neg=list(set(X.sample_id[X.stype=='ctrl-'])),\n",
    "                        pos=list(set(X.sample_id[X.stype=='ctrl+']))),\n",
    "              wells=list(X.to_dict('records'))\n",
    "             )\n",
    "    HCI.heprn_raw.insert_one(P0)\n"
   ]
  },
  {
   "cell_type": "code",
   "execution_count": 33,
   "metadata": {},
   "outputs": [
    {
     "data": {
      "text/plain": [
       "[u'heprn_raw', u'chemicals', u'heprn_plates']"
      ]
     },
     "execution_count": 33,
     "metadata": {},
     "output_type": "execute_result"
    }
   ],
   "source": [
    "HCI.list_collection_names()"
   ]
  },
  {
   "cell_type": "markdown",
   "metadata": {},
   "source": [
    "## Update features "
   ]
  },
  {
   "cell_type": "code",
   "execution_count": 40,
   "metadata": {},
   "outputs": [],
   "source": [
    "Features=pd.DataFrame(\n",
    "    dict(FN0=['DNATexture','MitoFxnI','LysosomalMass','NuclearSize1','CellNumber1','ERStress',\n",
    "           'Apoptosis','NuclearSize2','CellNumber2','Steatosis'],\n",
    "    FA0 =['DT','MF','LM','NS1','CN1','ES','Ap','NS2','CN2','St'],\n",
    "    FN1=['DNATexture','MitoFxnI','LysosomalMass','NuclearSize','CellNumber','ERStress',\n",
    "           'Apoptosis','NuclearSize','CellNumber','Steatosis'],\n",
    "    FA1 =['DT','MF','LM','NS','CN','ES','Ap','NS','CN','St'])\n",
    ")"
   ]
  },
  {
   "cell_type": "code",
   "execution_count": null,
   "metadata": {},
   "outputs": [],
   "source": []
  },
  {
   "cell_type": "code",
   "execution_count": 41,
   "metadata": {},
   "outputs": [
    {
     "data": {
      "text/plain": [
       "<pymongo.results.InsertManyResult at 0x7faa0abaff80>"
      ]
     },
     "execution_count": 41,
     "metadata": {},
     "output_type": "execute_result"
    }
   ],
   "source": [
    "HCI.hci_feats.insert_many(Features.to_dict('records'))"
   ]
  },
  {
   "cell_type": "code",
   "execution_count": 7,
   "metadata": {},
   "outputs": [
    {
     "data": {
      "text/html": [
       "<div>\n",
       "<style scoped>\n",
       "    .dataframe tbody tr th:only-of-type {\n",
       "        vertical-align: middle;\n",
       "    }\n",
       "\n",
       "    .dataframe tbody tr th {\n",
       "        vertical-align: top;\n",
       "    }\n",
       "\n",
       "    .dataframe thead th {\n",
       "        text-align: right;\n",
       "    }\n",
       "</style>\n",
       "<table border=\"1\" class=\"dataframe\">\n",
       "  <thead>\n",
       "    <tr style=\"text-align: right;\">\n",
       "      <th></th>\n",
       "      <th>FA0</th>\n",
       "      <th>FA1</th>\n",
       "      <th>FN0</th>\n",
       "      <th>FN1</th>\n",
       "    </tr>\n",
       "  </thead>\n",
       "  <tbody>\n",
       "    <tr>\n",
       "      <th>0</th>\n",
       "      <td>DT</td>\n",
       "      <td>DT</td>\n",
       "      <td>DNATexture</td>\n",
       "      <td>DNATexture</td>\n",
       "    </tr>\n",
       "    <tr>\n",
       "      <th>1</th>\n",
       "      <td>MF</td>\n",
       "      <td>MF</td>\n",
       "      <td>MitoFxnI</td>\n",
       "      <td>MitoFxnI</td>\n",
       "    </tr>\n",
       "    <tr>\n",
       "      <th>2</th>\n",
       "      <td>LM</td>\n",
       "      <td>LM</td>\n",
       "      <td>LysosomalMass</td>\n",
       "      <td>LysosomalMass</td>\n",
       "    </tr>\n",
       "    <tr>\n",
       "      <th>3</th>\n",
       "      <td>NS1</td>\n",
       "      <td>NS</td>\n",
       "      <td>NuclearSize1</td>\n",
       "      <td>NuclearSize</td>\n",
       "    </tr>\n",
       "    <tr>\n",
       "      <th>4</th>\n",
       "      <td>CN1</td>\n",
       "      <td>CN</td>\n",
       "      <td>CellNumber1</td>\n",
       "      <td>CellNumber</td>\n",
       "    </tr>\n",
       "    <tr>\n",
       "      <th>5</th>\n",
       "      <td>ES</td>\n",
       "      <td>ES</td>\n",
       "      <td>ERStress</td>\n",
       "      <td>ERStress</td>\n",
       "    </tr>\n",
       "    <tr>\n",
       "      <th>6</th>\n",
       "      <td>Ap</td>\n",
       "      <td>Ap</td>\n",
       "      <td>Apoptosis</td>\n",
       "      <td>Apoptosis</td>\n",
       "    </tr>\n",
       "    <tr>\n",
       "      <th>7</th>\n",
       "      <td>NS2</td>\n",
       "      <td>NS</td>\n",
       "      <td>NuclearSize2</td>\n",
       "      <td>NuclearSize</td>\n",
       "    </tr>\n",
       "    <tr>\n",
       "      <th>8</th>\n",
       "      <td>CN2</td>\n",
       "      <td>CN</td>\n",
       "      <td>CellNumber2</td>\n",
       "      <td>CellNumber</td>\n",
       "    </tr>\n",
       "    <tr>\n",
       "      <th>9</th>\n",
       "      <td>St</td>\n",
       "      <td>St</td>\n",
       "      <td>Steatosis</td>\n",
       "      <td>Steatosis</td>\n",
       "    </tr>\n",
       "  </tbody>\n",
       "</table>\n",
       "</div>"
      ],
      "text/plain": [
       "   FA0 FA1            FN0            FN1\n",
       "0   DT  DT     DNATexture     DNATexture\n",
       "1   MF  MF       MitoFxnI       MitoFxnI\n",
       "2   LM  LM  LysosomalMass  LysosomalMass\n",
       "3  NS1  NS   NuclearSize1    NuclearSize\n",
       "4  CN1  CN    CellNumber1     CellNumber\n",
       "5   ES  ES       ERStress       ERStress\n",
       "6   Ap  Ap      Apoptosis      Apoptosis\n",
       "7  NS2  NS   NuclearSize2    NuclearSize\n",
       "8  CN2  CN    CellNumber2     CellNumber\n",
       "9   St  St      Steatosis      Steatosis"
      ]
     },
     "execution_count": 7,
     "metadata": {},
     "output_type": "execute_result"
    }
   ],
   "source": [
    "Features"
   ]
  }
 ],
 "metadata": {
  "kernelspec": {
   "display_name": "tiptox",
   "language": "python",
   "name": "tiptox"
  },
  "language_info": {
   "codemirror_mode": {
    "name": "ipython",
    "version": 3
   },
   "file_extension": ".py",
   "mimetype": "text/x-python",
   "name": "python",
   "nbconvert_exporter": "python",
   "pygments_lexer": "ipython3",
   "version": "3.8.1"
  }
 },
 "nbformat": 4,
 "nbformat_minor": 4
}
