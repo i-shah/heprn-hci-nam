{
 "cells": [
  {
   "cell_type": "code",
   "execution_count": 1,
   "metadata": {},
   "outputs": [],
   "source": [
    "# %load ../startup.py\n",
    "import os,sys\n",
    "from dotenv import load_dotenv, find_dotenv\n",
    "\n",
    "load_dotenv(find_dotenv())\n",
    "\n",
    "os.environ['PYTHONPATH']=os.environ.get('LIB')\n",
    "if not os.environ.get('LIB') in sys.path: \n",
    "    sys.path.insert(0,os.environ.get('LIB'))\n",
    "\n",
    "DAT_DIR = os.environ.get('DAT_DIR')    \n",
    "\n",
    "%load_ext autoreload\n",
    "%autoreload 2\n",
    "%pylab inline\n",
    "%matplotlib inline\n",
    "%load_ext rpy2.ipython\n",
    "\n",
    "import matplotlib.text as text\n",
    "import pandas as pd\n",
    "import numpy as np\n",
    "import pylab as pl\n",
    "import scipy as sp\n",
    "import sys\n",
    "import rpy2 \n",
    "import os \n",
    "from matplotlib import gridspec\n",
    "from scipy.interpolate import splev, splrep\n",
    "import xlwt\n",
    "import seaborn as sns\n",
    "from scipy import stats\n",
    "import rpy2.robjects.packages as rpackages\n",
    "import seaborn as sns\n",
    "from statsmodels import robust\n",
    "\n",
    "\n",
    "from heprnhci.db.mongo import *\n",
    "\n",
    "\n",
    "from IPython.core.display import display, HTML\n",
    "display(HTML(\"<style>.container {width:80% !important;}</style>\")) # increase jupyter screen width to 100%\n",
    "pd.options.display.max_colwidth = 500\n",
    "pd.set_option('display.precision',2)\n",
    "\n",
    "HCI=openMongo(db=os.environ.get('MONGO_HCIDB'),host=os.environ.get('MONGO_HOST'),auth=False)\n"
   ]
  },
  {
   "cell_type": "markdown",
   "metadata": {},
   "source": [
    "# Goal\n",
    "\n",
    "Summarize and store in vitro assay results from \n",
    "* HepRn\n",
    "* ToxCast & Tox21\n",
    "* HepRnAtg\n"
   ]
  },
  {
   "cell_type": "markdown",
   "metadata": {},
   "source": [
    "# Chemicals"
   ]
  },
  {
   "cell_type": "code",
   "execution_count": 1,
   "metadata": {},
   "outputs": [
    {
     "ename": "ModuleNotFoundError",
     "evalue": "No module named 'tk'",
     "output_type": "error",
     "traceback": [
      "\u001b[0;31m---------------------------------------------------------------------------\u001b[0m",
      "\u001b[0;31mModuleNotFoundError\u001b[0m                       Traceback (most recent call last)",
      "\u001b[0;32m<ipython-input-1-111942441caf>\u001b[0m in \u001b[0;36m<module>\u001b[0;34m\u001b[0m\n\u001b[0;32m----> 1\u001b[0;31m \u001b[0;32mfrom\u001b[0m \u001b[0mtk\u001b[0m\u001b[0;34m.\u001b[0m\u001b[0mhttk\u001b[0m \u001b[0;32mimport\u001b[0m \u001b[0;34m*\u001b[0m\u001b[0;34m\u001b[0m\u001b[0;34m\u001b[0m\u001b[0m\n\u001b[0m\u001b[1;32m      2\u001b[0m \u001b[0;34m\u001b[0m\u001b[0m\n\u001b[1;32m      3\u001b[0m \u001b[0;34m\u001b[0m\u001b[0m\n\u001b[1;32m      4\u001b[0m \u001b[0mRAT_LIV_LL\u001b[0m \u001b[0;34m=\u001b[0m \u001b[0mpd\u001b[0m\u001b[0;34m.\u001b[0m\u001b[0mread_excel\u001b[0m\u001b[0;34m(\u001b[0m\u001b[0mDAT_DIR\u001b[0m\u001b[0;34m+\u001b[0m\u001b[0;34m'toxref-v2.0-pods-rat-liver.xlsx'\u001b[0m\u001b[0;34m)\u001b[0m\u001b[0;34m\u001b[0m\u001b[0;34m\u001b[0m\u001b[0m\n\u001b[1;32m      5\u001b[0m CH_CAS0=pd.DataFrame(list(HCI.chemicals.find()),\n",
      "\u001b[0;31mModuleNotFoundError\u001b[0m: No module named 'tk'"
     ]
    }
   ],
   "source": [
    "from tk.httk import * \n",
    "\n",
    "\n",
    "RAT_LIV_LL = pd.read_excel(DAT_DIR+'toxref-v2.0-pods-rat-liver.xlsx')\n",
    "CH_CAS0=pd.DataFrame(list(HCI.chemicals.find()),\n",
    "                    columns=['dsstox_sid','chem_name','casrn'])\\\n",
    "        .rename(columns=dict(chem_name='name'))\n",
    "CAS_TK=getChemInfo()\n",
    "CAS0 = set(CH_CAS0.casrn).intersection(RAT_LIV_LL.casrn).intersection(CAS_TK)\n",
    "CH_CAS1 = CH_CAS0[CH_CAS0.casrn.isin(CAS0)]"
   ]
  },
  {
   "cell_type": "markdown",
   "metadata": {},
   "source": [
    "## HepRn\n",
    "\n",
    "The HepRn CR analysis is conducted as follows:\n",
    "* Curve fits are in notebooks/heprn-ivive/110-heprn-cr.ipynb and results stored in mongodb://localhost/heprn_v1.heprn_cr \n",
    "* Curve fit quality is analyzed in notebooks/heprn-ivive/130-heprn-cr-manual-qc.ipynb and stored in mongodb://localhost/heprn_v1/heprn_hitqual\n",
    "* The final hits are identified based on quality and the results are stored in \n",
    "mongodb://localhost/heprn_v1/potency"
   ]
  },
  {
   "cell_type": "markdown",
   "metadata": {},
   "source": [
    "### HepRn AC50 data"
   ]
  },
  {
   "cell_type": "code",
   "execution_count": 3,
   "metadata": {},
   "outputs": [
    {
     "ename": "NameError",
     "evalue": "name 'HepRn_filt1' is not defined",
     "output_type": "error",
     "traceback": [
      "\u001b[0;31m---------------------------------------------------------------------------\u001b[0m",
      "\u001b[0;31mNameError\u001b[0m                                 Traceback (most recent call last)",
      "\u001b[0;32m<ipython-input-3-f8360f9d09c1>\u001b[0m in \u001b[0;36m<module>\u001b[0;34m\u001b[0m\n\u001b[1;32m      1\u001b[0m \u001b[0;32mfrom\u001b[0m \u001b[0mbox\u001b[0m \u001b[0;32mimport\u001b[0m \u001b[0mBox\u001b[0m\u001b[0;34m\u001b[0m\u001b[0;34m\u001b[0m\u001b[0m\n\u001b[0;32m----> 2\u001b[0;31m HEPRN = [Box(AC50=HepRn_filt1,potency_meth='tcpl:ac50'),\n\u001b[0m\u001b[1;32m      3\u001b[0m          Box(AC50=HepRn_qc,potency_meth='tcpl:ac50:manual_qc')]\n",
      "\u001b[0;31mNameError\u001b[0m: name 'HepRn_filt1' is not defined"
     ]
    }
   ],
   "source": [
    "from box import Box\n",
    "HEPRN = [Box(AC50=HepRn_filt1,potency_meth='tcpl:ac50'),\n",
    "         Box(AC50=HepRn_qc,potency_meth='tcpl:ac50:manual_qc')]"
   ]
  },
  {
   "cell_type": "markdown",
   "metadata": {},
   "source": [
    "### Summarize HepRn data"
   ]
  },
  {
   "cell_type": "code",
   "execution_count": null,
   "metadata": {},
   "outputs": [],
   "source": [
    "def _p05(X):  return np.percentile(X,5)\n",
    "def _p95(X): return np.percentile(X,95)\n",
    "def _p50(X): return np.percentile(X,50)\n",
    "def _n(X): return len(X)\n",
    "\n",
    "\n",
    "for D in HEPRN:\n",
    "    D.AC50 = D.AC50.merge(CH_CAS0[['dsstox_sid','name']],on='name')\n",
    "    \n",
    "    HepRn = D.AC50.groupby(['dsstox_sid','name'])\\\n",
    "                .aggregate(dict(ac50=[_p05,_p50,_p95]))\n",
    "    HepRn.columns=[i+j for i,j in HepRn.columns]\n",
    "    HepRn = HepRn.reset_index()\n",
    "    HepRn_L = HepRn.melt(['dsstox_sid','name'],\n",
    "                         var_name='potency_name',value_name='potency_val')\n",
    "    HepRn_L.insert(0,'assay','HepRn')\n",
    "    HepRn_L.insert(0,'platform','APR:HepRn')\n",
    "    HepRn_L.insert(0,'ft','All')\n",
    "    HepRn_L.insert(0,'timeh',72)\n",
    "\n",
    "\n",
    "    HepRnTm = D.AC50.groupby(['dsstox_sid','name','timeh'])\\\n",
    "                .aggregate(dict(ac50=[_p05,_p50,_p95]))\n",
    "    HepRnTm.columns=[i+j for i,j in HepRnTm.columns]\n",
    "    HepRnTm = HepRnTm.reset_index()\n",
    "\n",
    "\n",
    "    HepRnTm_L = HepRnTm.melt(['dsstox_sid','name','timeh'],\n",
    "                         var_name='potency_name',value_name='potency_val')\n",
    "    HepRnTm_L.insert(0,'assay','HepRn')\n",
    "    HepRnTm_L.insert(0,'platform','APR:HepRn:Tm')\n",
    "    HepRnTm_L.insert(0,'ft','All')\n",
    "\n",
    "    HepRnFtTm = D.AC50.groupby(['dsstox_sid','name','ft','timeh'])\\\n",
    "                .aggregate(dict(ac50=[_p05,_p50,_p95]))\n",
    "    HepRnFtTm.columns=[i+j for i,j in HepRnFtTm.columns]\n",
    "    HepRnFtTm = HepRnFtTm.reset_index()\n",
    "\n",
    "    HepRnFtTm_L = HepRnFtTm.melt(['dsstox_sid','name','ft','timeh'],\n",
    "                         var_name='potency_name',value_name='potency_val')\n",
    "    HepRnFtTm_L.insert(0,'assay','HepRn')\n",
    "    HepRnFtTm_L.insert(0,'platform','APR:HepRn:Tm:Ft')\n",
    "    \n",
    "    D.potency = pd.concat((HepRnTm_L,HepRn_L,HepRnFtTm_L))\n",
    "    D.potency['days_ivt'] = D.potency.timeh/24\n",
    "    D.potency.insert(D.potency.shape[1],'potency_meth',D.potency_meth)"
   ]
  }
 ],
 "metadata": {
  "kernelspec": {
   "display_name": "tiptox",
   "language": "python",
   "name": "tiptox"
  },
  "language_info": {
   "codemirror_mode": {
    "name": "ipython",
    "version": 3
   },
   "file_extension": ".py",
   "mimetype": "text/x-python",
   "name": "python",
   "nbconvert_exporter": "python",
   "pygments_lexer": "ipython3",
   "version": "3.8.1"
  }
 },
 "nbformat": 4,
 "nbformat_minor": 4
}
