{
 "cells": [
  {
   "cell_type": "code",
   "execution_count": 2,
   "metadata": {},
   "outputs": [
    {
     "name": "stdout",
     "output_type": "stream",
     "text": [
      "Populating the interactive namespace from numpy and matplotlib\n"
     ]
    },
    {
     "name": "stderr",
     "output_type": "stream",
     "text": [
      "/opt/miniconda3/envs/tiptox/lib/python3.8/site-packages/rpy2/robjects/pandas2ri.py:14: FutureWarning: pandas.core.index is deprecated and will be removed in a future version.  The public classes are available in the top-level namespace.\n",
      "  from pandas.core.index import Index as PandasIndex\n",
      "/opt/miniconda3/envs/tiptox/lib/python3.8/site-packages/rpy2/robjects/pandas2ri.py:34: UserWarning: pandas >= 1.0 is not supported.\n",
      "  warnings.warn('pandas >= 1.0 is not supported.')\n"
     ]
    },
    {
     "data": {
      "text/html": [
       "<style>.container {width:80% !important;}</style>"
      ],
      "text/plain": [
       "<IPython.core.display.HTML object>"
      ]
     },
     "metadata": {},
     "output_type": "display_data"
    }
   ],
   "source": [
    "# %load ../startup.py\n",
    "import os,sys\n",
    "from dotenv import load_dotenv, find_dotenv\n",
    "\n",
    "load_dotenv(find_dotenv())\n",
    "\n",
    "os.environ['PYTHONPATH']=os.environ.get('LIB')\n",
    "if not os.environ.get('LIB') in sys.path: \n",
    "    sys.path.insert(0,os.environ.get('LIB'))\n",
    "\n",
    "DAT_DIR = os.environ.get('DAT_DIR')    \n",
    "\n",
    "%load_ext autoreload\n",
    "%autoreload 2\n",
    "%pylab inline\n",
    "%matplotlib inline\n",
    "%load_ext rpy2.ipython\n",
    "\n",
    "import matplotlib.text as text\n",
    "import pandas as pd\n",
    "import numpy as np\n",
    "import pylab as pl\n",
    "import scipy as sp\n",
    "import sys\n",
    "import rpy2 \n",
    "import os \n",
    "from matplotlib import gridspec\n",
    "from scipy.interpolate import splev, splrep\n",
    "import xlwt\n",
    "import seaborn as sns\n",
    "from scipy import stats\n",
    "import rpy2.robjects.packages as rpackages\n",
    "import seaborn as sns\n",
    "from statsmodels import robust\n",
    "\n",
    "\n",
    "from heprnhci.db.mongo import *\n",
    "\n",
    "\n",
    "from IPython.core.display import display, HTML\n",
    "display(HTML(\"<style>.container {width:80% !important;}</style>\")) # increase jupyter screen width to 100%\n",
    "pd.options.display.max_colwidth = 500\n",
    "pd.set_option('display.precision',2)\n",
    "\n",
    "HCI=openMongo(db=os.environ.get('MONGO_HCIDB'),host=os.environ.get('MONGO_HOST'),auth=False)\n"
   ]
  },
  {
   "cell_type": "markdown",
   "metadata": {},
   "source": [
    "# Load test chemicals"
   ]
  },
  {
   "cell_type": "code",
   "execution_count": 33,
   "metadata": {},
   "outputs": [
    {
     "data": {
      "text/plain": [
       "<pymongo.results.InsertManyResult at 0x7fac606ea2d0>"
      ]
     },
     "execution_count": 33,
     "metadata": {},
     "output_type": "execute_result"
    }
   ],
   "source": [
    "CHM0=pd.read_csv(DAT_DIR+\"heprn-chems-1.tsv\",sep='\\t')\\\n",
    "     .rename(columns=dict(INPUT='name',FOUND_BY='found_by',\n",
    "                         DTXSID='dsstox_sid',PREFERRED_NAME='chem_name',CASRN='casrn'))\n",
    "CHM0.shape\n",
    "HCI.chemicals.insert_many(CHM0.to_dict('records'))"
   ]
  },
  {
   "cell_type": "markdown",
   "metadata": {},
   "source": [
    "# Load reference chemicals"
   ]
  },
  {
   "cell_type": "code",
   "execution_count": 13,
   "metadata": {},
   "outputs": [
    {
     "data": {
      "text/plain": [
       "[{'casrn': '67-68-5',\n",
       "  'dsstox_sid': 'DTXSID2021735',\n",
       "  'chem_name': 'Dimethyl sulfoxide',\n",
       "  'sample_id': 'DMSO',\n",
       "  'stype': 'ctrl-'},\n",
       " {'casrn': '555-60-2',\n",
       "  'dsstox_sid': 'DTXSID7040990',\n",
       "  'chem_name': 'Carbonyl cyanide chlorophenylhydrazone',\n",
       "  'sample_id': 'CCCP',\n",
       "  'stype': 'ctrl+'},\n",
       " {'casrn': '10540-29-1',\n",
       "  'dsstox_sid': 'DTXSID1034187',\n",
       "  'chem_name': 'Tamoxifen',\n",
       "  'sample_id': 'TMXF',\n",
       "  'stype': 'ctrl+'},\n",
       " {'casrn': '51803-78-2',\n",
       "  'dsstox_sid': 'DTXSID3037250',\n",
       "  'chem_name': 'Nimesulide',\n",
       "  'sample_id': 'NMSL',\n",
       "  'stype': 'ctrl+'},\n",
       " {'casrn': '38396-39-3',\n",
       "  'dsstox_sid': 'DTXSID2022703',\n",
       "  'chem_name': 'Bupivacaine',\n",
       "  'sample_id': 'BPVC',\n",
       "  'stype': 'ctrl+'}]"
      ]
     },
     "execution_count": 13,
     "metadata": {},
     "output_type": "execute_result"
    }
   ],
   "source": [
    "#list(HCI.chemicals.find(dict(stype={'$regex':'ctrl'}),dict(_id=0)))\n",
    "HCI.chemical.insert_many([{'casrn': '67-68-5',\n",
    "  'dsstox_sid': 'DTXSID2021735',\n",
    "  'chem_name': 'Dimethyl sulfoxide',\n",
    "  'sample_id': 'DMSO',\n",
    "  'stype': 'ctrl-'},\n",
    " {'casrn': '555-60-2',\n",
    "  'dsstox_sid': 'DTXSID7040990',\n",
    "  'chem_name': 'Carbonyl cyanide chlorophenylhydrazone',\n",
    "  'sample_id': 'CCCP',\n",
    "  'stype': 'ctrl+'},\n",
    " {'casrn': '10540-29-1',\n",
    "  'dsstox_sid': 'DTXSID1034187',\n",
    "  'chem_name': 'Tamoxifen',\n",
    "  'sample_id': 'TMXF',\n",
    "  'stype': 'ctrl+'},\n",
    " {'casrn': '51803-78-2',\n",
    "  'dsstox_sid': 'DTXSID3037250',\n",
    "  'chem_name': 'Nimesulide',\n",
    "  'sample_id': 'NMSL',\n",
    "  'stype': 'ctrl+'},\n",
    " {'casrn': '38396-39-3',\n",
    "  'dsstox_sid': 'DTXSID2022703',\n",
    "  'chem_name': 'Bupivacaine',\n",
    "  'sample_id': 'BPVC',\n",
    "  'stype': 'ctrl+'}])"
   ]
  },
  {
   "cell_type": "code",
   "execution_count": null,
   "metadata": {},
   "outputs": [],
   "source": []
  }
 ],
 "metadata": {
  "kernelspec": {
   "display_name": "tiptox",
   "language": "python",
   "name": "tiptox"
  },
  "language_info": {
   "codemirror_mode": {
    "name": "ipython",
    "version": 3
   },
   "file_extension": ".py",
   "mimetype": "text/x-python",
   "name": "python",
   "nbconvert_exporter": "python",
   "pygments_lexer": "ipython3",
   "version": "3.8.1"
  }
 },
 "nbformat": 4,
 "nbformat_minor": 4
}
