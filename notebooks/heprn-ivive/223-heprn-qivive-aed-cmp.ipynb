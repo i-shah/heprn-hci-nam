{
 "cells": [
  {
   "cell_type": "code",
   "execution_count": 1,
   "metadata": {},
   "outputs": [
    {
     "name": "stdout",
     "output_type": "stream",
     "text": [
      "Populating the interactive namespace from numpy and matplotlib\n"
     ]
    },
    {
     "data": {
      "text/html": [
       "<style>.container {width:80% !important;}</style>"
      ],
      "text/plain": [
       "<IPython.core.display.HTML object>"
      ]
     },
     "metadata": {},
     "output_type": "display_data"
    }
   ],
   "source": [
    "import os\n",
    "os.environ['R_HOME']='/opt/miniconda3/envs/tiptox/lib/R'\n",
    "# %load ../env.py\n",
    "%load_ext autoreload\n",
    "%autoreload 2\n",
    "%pylab inline\n",
    "%matplotlib inline\n",
    "#%load_ext rpy2.ipython\n",
    "\n",
    "from IPython.core.display import display, HTML\n",
    "display(HTML(\"<style>.container {width:80% !important;}</style>\")) # increase jupyter screen width to 100%\n",
    "\n",
    "\n",
    "import matplotlib.text as text\n",
    "import pandas as pd\n",
    "import numpy as np\n",
    "import pylab as pl\n",
    "import scipy as sp\n",
    "import sys\n",
    "import rpy2 \n",
    "import os \n",
    "from matplotlib import gridspec\n",
    "from scipy.interpolate import splev, splrep\n",
    "import xlwt\n",
    "import seaborn as sns\n",
    "from scipy import stats\n",
    "import rpy2.robjects.packages as rpackages\n",
    "import seaborn as sns\n",
    "from statsmodels import robust\n",
    "\n",
    "TOP = \"/home/ishah/ipynb/heprn-tp/\"\n",
    "\n",
    "LIB = TOP+'lib3'\n",
    "if not LIB in sys.path: \n",
    "    sys.path.insert(0,LIB)\n",
    "\n",
    "os.environ['PYTHONPATH']=LIB\n",
    "\n",
    "\n",
    "DAT_DIR = TOP + '/data/'\n",
    "FIG_DIR = TOP + '/figs/'\n",
    "\n",
    "from db.mongo import *\n",
    "\n",
    "HCI=openMongo(db='heprn_v1',host='localhost',auth=False)\n",
    "#DB=openMongo(db='httr_ph1',host='pb.epa.gov')\n",
    "#DB1=openMongo(db='httr_v1',host='pb.epa.gov')\n",
    "#MSG=openMongo(db='msigdb_v6',host='pb.epa.gov')\n",
    "#CMP=openMongo(db='cmap_v2',host='pb.epa.gov',host='localhost')\n",
    "#from gexp.deseq2 import *\n",
    "pd.options.display.max_colwidth = 500\n",
    "pd.set_option('display.precision',2)"
   ]
  },
  {
   "cell_type": "code",
   "execution_count": 2,
   "metadata": {},
   "outputs": [],
   "source": [
    "import seaborn as sns\n",
    "sns.set(style='whitegrid')"
   ]
  },
  {
   "cell_type": "markdown",
   "metadata": {},
   "source": [
    "# Goal \n",
    "\n",
    "Calculate AEDs using IVIVE functions"
   ]
  },
  {
   "cell_type": "markdown",
   "metadata": {},
   "source": [
    "# Chemicals"
   ]
  },
  {
   "cell_type": "code",
   "execution_count": 3,
   "metadata": {},
   "outputs": [
    {
     "name": "stderr",
     "output_type": "stream",
     "text": [
      "/opt/miniconda3/envs/tiptox/lib/python3.8/site-packages/rpy2/robjects/pandas2ri.py:14: FutureWarning: pandas.core.index is deprecated and will be removed in a future version.  The public classes are available in the top-level namespace.\n",
      "  from pandas.core.index import Index as PandasIndex\n",
      "/opt/miniconda3/envs/tiptox/lib/python3.8/site-packages/rpy2/robjects/pandas2ri.py:34: UserWarning: pandas >= 1.0 is not supported.\n",
      "  warnings.warn('pandas >= 1.0 is not supported.')\n"
     ]
    }
   ],
   "source": [
    "from tk.httk import * \n",
    "\n",
    "\n",
    "RAT_LIV_LL = pd.read_excel(DAT_DIR+'toxref-v2.0-pods-rat-liver.xlsx')\n",
    "CH_CAS0=pd.DataFrame(list(HCI.chemicals.find()),\n",
    "                    columns=['dsstox_sid','chem_name','casrn'])\\\n",
    "        .rename(columns=dict(chem_name='name'))\n",
    "CAS_TK=getChemInfo()\n",
    "CAS0 = set(CH_CAS0.casrn).intersection(RAT_LIV_LL.casrn).intersection(CAS_TK)\n",
    "CH_CAS1 = CH_CAS0[CH_CAS0.casrn.isin(CAS0)]"
   ]
  },
  {
   "cell_type": "markdown",
   "metadata": {
    "toc-hr-collapsed": false
   },
   "source": [
    "# *In vitro* Potency"
   ]
  },
  {
   "cell_type": "markdown",
   "metadata": {
    "toc-hr-collapsed": false
   },
   "source": [
    "## HepRn\n",
    "\n",
    "The HepRn CR analysis is conducted as follows:\n",
    "* Curve fits are in heprn/heprn-cr-v2b.ipynb and results stored in mongodb://pb.epa.gov/heprn_v1.heprn_cr \n",
    "* Curve fit quality is analyzed in heprn-ivive/heprn-conc-response-v1c.ipynb and stored in mongodb://pb.epa.gov/heprn_v1/heprn_hitqual\n",
    "* The final hits are identified based on quality and the results are stored in \n",
    "mongodb://pb.epa.gov/heprn_v1/potency"
   ]
  },
  {
   "cell_type": "markdown",
   "metadata": {},
   "source": [
    "### Load hits"
   ]
  },
  {
   "cell_type": "code",
   "execution_count": 4,
   "metadata": {},
   "outputs": [
    {
     "data": {
      "text/plain": [
       "51"
      ]
     },
     "execution_count": 4,
     "metadata": {},
     "output_type": "execute_result"
    }
   ],
   "source": [
    "RES = []\n",
    "\n",
    "FT_CH = ['MF_dn','DT_up','St_up','NS_dn','Ap_up','CN_dn','St_dn',\n",
    "         'DT_dn','NS_up','ES_dn','ES_up','LM_up','LM_dn']\n",
    "\n",
    "Q = dict(timeh={'$in':[24,48,72]},\n",
    "         name={'$in':list(CH_CAS1.name)})\n",
    "Q['best_fit.model']={'$ne':'cnst'}\n",
    "#Q['cr_info.gt_3bmad']=1\n",
    "\n",
    "for CR in HCI.heprn_cr.find(Q):\n",
    "    X = pd.DataFrame(CR['cr_data'])\n",
    "    # Only if there are 3 or more points above bmad\n",
    "    #if (X.resp.abs()>1).sum()>=1: \n",
    "    RES.append(CR['best_fit'])\n",
    "\n",
    "HepRn_raw = pd.DataFrame(RES)\n",
    "HepRn_filt1 = HepRn_raw[(HepRn_raw.ga>=-0.7) & \n",
    "                        (HepRn_raw.ga<=2) & \n",
    "                        (HepRn_raw.ft_ch.isin(FT_CH))]\n",
    "HepRn_filt1.insert(10,'ac50',10**HepRn_filt1.ga)\n",
    "\n",
    "len(HepRn_filt1.name.unique())"
   ]
  },
  {
   "cell_type": "markdown",
   "metadata": {},
   "source": [
    "### Filter by hit quality"
   ]
  },
  {
   "cell_type": "code",
   "execution_count": 5,
   "metadata": {},
   "outputs": [],
   "source": [
    "X1=pd.DataFrame(list(HCI.heprn_hitqual.find({},dict(_id=0))))[['name','timeh','ft_ch','hit','quality_flags']]\\\n",
    "    .drop_duplicates().rename(columns=dict(hit='hit_call'))\n",
    "HepRn_qc = HepRn_filt1.merge(X1[X1.hit_call==1],on=['name','timeh','ft_ch'])\n"
   ]
  },
  {
   "cell_type": "markdown",
   "metadata": {},
   "source": [
    "### HepRn AC50 data"
   ]
  },
  {
   "cell_type": "code",
   "execution_count": 6,
   "metadata": {},
   "outputs": [],
   "source": [
    "from box import Box\n",
    "HEPRN = [Box(AC50=HepRn_filt1,potency_meth='tcpl:ac50'),\n",
    "         Box(AC50=HepRn_qc,potency_meth='tcpl:ac50:manual_qc')]"
   ]
  },
  {
   "cell_type": "markdown",
   "metadata": {},
   "source": [
    "### Summarize HepRn data"
   ]
  },
  {
   "cell_type": "code",
   "execution_count": 7,
   "metadata": {},
   "outputs": [
    {
     "data": {
      "text/plain": [
       "{'ok': 1.0}"
      ]
     },
     "execution_count": 7,
     "metadata": {},
     "output_type": "execute_result"
    }
   ],
   "source": [
    "HCI.potency.rename('potency_0')"
   ]
  },
  {
   "cell_type": "code",
   "execution_count": 8,
   "metadata": {},
   "outputs": [],
   "source": [
    "def _p05(X):  return np.percentile(X,5)\n",
    "def _p95(X): return np.percentile(X,95)\n",
    "def _p50(X): return np.percentile(X,50)\n",
    "def _n(X): return len(X)\n",
    "\n",
    "\n",
    "for D in HEPRN:\n",
    "    D.AC50 = D.AC50.merge(CH_CAS0[['dsstox_sid','name']],on='name')\n",
    "    \n",
    "    HepRn = D.AC50.groupby(['dsstox_sid','name'])\\\n",
    "                .aggregate(dict(ac50=[_p05,_p50,_p95]))\n",
    "    HepRn.columns=[i+j for i,j in HepRn.columns]\n",
    "    HepRn = HepRn.reset_index()\n",
    "    HepRn_L = HepRn.melt(['dsstox_sid','name'],\n",
    "                         var_name='potency_name',value_name='potency_val')\n",
    "    HepRn_L.insert(0,'assay','HepRn')\n",
    "    HepRn_L.insert(0,'platform','APR:HepRn')\n",
    "    HepRn_L.insert(0,'ft','All')\n",
    "    HepRn_L.insert(0,'timeh',72)\n",
    "\n",
    "\n",
    "    HepRnTm = D.AC50.groupby(['dsstox_sid','name','timeh'])\\\n",
    "                .aggregate(dict(ac50=[_p05,_p50,_p95]))\n",
    "    HepRnTm.columns=[i+j for i,j in HepRnTm.columns]\n",
    "    HepRnTm = HepRnTm.reset_index()\n",
    "\n",
    "\n",
    "    HepRnTm_L = HepRnTm.melt(['dsstox_sid','name','timeh'],\n",
    "                         var_name='potency_name',value_name='potency_val')\n",
    "    HepRnTm_L.insert(0,'assay','HepRn')\n",
    "    HepRnTm_L.insert(0,'platform','APR:HepRn:Tm')\n",
    "    HepRnTm_L.insert(0,'ft','All')\n",
    "\n",
    "    HepRnFtTm = D.AC50.groupby(['dsstox_sid','name','ft','timeh'])\\\n",
    "                .aggregate(dict(ac50=[_p05,_p50,_p95]))\n",
    "    HepRnFtTm.columns=[i+j for i,j in HepRnFtTm.columns]\n",
    "    HepRnFtTm = HepRnFtTm.reset_index()\n",
    "\n",
    "    HepRnFtTm_L = HepRnFtTm.melt(['dsstox_sid','name','ft','timeh'],\n",
    "                         var_name='potency_name',value_name='potency_val')\n",
    "    HepRnFtTm_L.insert(0,'assay','HepRn')\n",
    "    HepRnFtTm_L.insert(0,'platform','APR:HepRn:Tm:Ft')\n",
    "    \n",
    "    D.potency = pd.concat((HepRnTm_L,HepRn_L,HepRnFtTm_L))\n",
    "    D.potency['days_ivt'] = D.potency.timeh/24\n",
    "    D.potency.insert(D.potency.shape[1],'potency_meth',D.potency_meth)"
   ]
  },
  {
   "cell_type": "code",
   "execution_count": 9,
   "metadata": {},
   "outputs": [],
   "source": [
    "for i in (HepRnTm_L,HepRn_L,HepRnFtTm_L): del(i)"
   ]
  },
  {
   "cell_type": "markdown",
   "metadata": {},
   "source": [
    "### Store final HepRn hits"
   ]
  },
  {
   "cell_type": "code",
   "execution_count": 14,
   "metadata": {},
   "outputs": [
    {
     "name": "stdout",
     "output_type": "stream",
     "text": [
      "tcpl:ac50 (2157, 10)\n",
      "tcpl:ac50:manual_qc (990, 10)\n"
     ]
    }
   ],
   "source": [
    "\n",
    "FT_hits = D.potency.columns\n",
    "\n",
    "HCI.potency.delete_many(dict(assay='HepRn'))\n",
    "\n",
    "for D in HEPRN:\n",
    "    print(D.potency_meth,D.potency.shape)\n",
    "    HCI.potency.insert_many(D.potency.to_dict('records'))\n",
    "#assert HCI.potency.count_documents(dict(assay='HepRnTm',platform='APR'))==X1.shape[0]"
   ]
  },
  {
   "cell_type": "code",
   "execution_count": null,
   "metadata": {},
   "outputs": [],
   "source": []
  },
  {
   "cell_type": "markdown",
   "metadata": {
    "toc-hr-collapsed": false
   },
   "source": [
    "## ToxCast\n",
    "\n",
    "The ToxCast hits are compiled as follows\n",
    "* See heprn-toxcast-v1a for hits and results are stoed in  This file contains the assay level hits along with qc flags from invitrodb v3.  \n",
    "* The final hits are identified based on quality and the results are stored in \n",
    "mongodb://pb.epa.gov/heprn_v1/potency"
   ]
  },
  {
   "cell_type": "markdown",
   "metadata": {},
   "source": [
    "### Hits"
   ]
  },
  {
   "cell_type": "code",
   "execution_count": 15,
   "metadata": {},
   "outputs": [],
   "source": [
    "EXC_FITS = ['Only highest conc above baseline, active',\n",
    "            'Only one conc above baseline, active']\n",
    "Tech=['NVS', 'ATG', 'BSK', 'CLD', 'TOX21', 'APR','ACEA','CEETOX', 'OT']\n",
    "\n",
    "ToxCast_raw = pd.read_csv(DAT_DIR+'heprn-toxcast-hits-qual.csv')\n",
    "\n",
    "ToxCast_filt1= ToxCast_raw.loc[(ToxCast_raw.modl_ga>-0.4) & \\\n",
    "                             (ToxCast_raw.modl_ga<2.3) & \n",
    "                            (ToxCast_raw.technology.isin(Tech))]\n",
    "\n",
    "ToxCast_filt1.insert(10,'ac50',10**ToxCast_filt1.modl_ga)\n",
    "ToxCast_filt1.rename(columns=dict(chemical='name'),inplace=True)\n",
    "ToxCast_qc = ToxCast_filt1.loc[~(ToxCast_filt1.flag.isin(EXC_FITS))]\n",
    "\n"
   ]
  },
  {
   "cell_type": "code",
   "execution_count": 16,
   "metadata": {},
   "outputs": [],
   "source": [
    "from box import Box\n",
    "TOXCAST = [Box(AC50=ToxCast_filt1[ToxCast_filt1.dsstox_sid.isin(CH_CAS1.dsstox_sid)],potency_meth='tcpl:ac50'),\n",
    "           Box(AC50=ToxCast_qc[ToxCast_qc.dsstox_sid.isin(CH_CAS1.dsstox_sid)],potency_meth='tcpl:ac50:manual_qc')]"
   ]
  },
  {
   "cell_type": "markdown",
   "metadata": {},
   "source": [
    "### Summarize ToxCast assay data"
   ]
  },
  {
   "cell_type": "markdown",
   "metadata": {},
   "source": [
    "#### All ToxCast assays"
   ]
  },
  {
   "cell_type": "code",
   "execution_count": 17,
   "metadata": {},
   "outputs": [
    {
     "name": "stdout",
     "output_type": "stream",
     "text": [
      "tcpl:ac50\n",
      "tcpl:ac50:manual_qc\n"
     ]
    }
   ],
   "source": [
    "def _p05(X):  return np.percentile(X,5)\n",
    "def _p95(X): return np.percentile(X,95)\n",
    "def _p50(X): return np.percentile(X,50)\n",
    "def _n(X): return len(X)\n",
    "\n",
    "\n",
    "for D in TOXCAST:\n",
    "    print(D.potency_meth)\n",
    "    ToxCast = D.AC50.groupby(['dsstox_sid','name'])\\\n",
    "                   .aggregate(dict(ac50=[_p05,_p50,_p95]))\n",
    "    ToxCast.columns=[i+j for i,j in ToxCast.columns]\n",
    "    ToxCast = ToxCast.reset_index()\n",
    "    ToxCast_L = ToxCast.melt(['dsstox_sid','name'],\n",
    "                         var_name='potency_name',value_name='potency_val')\n",
    "    ToxCast_L.insert(ToxCast_L.shape[1],'assay','ToxCast')\n",
    "    ToxCast_L.insert(ToxCast_L.shape[1],'platform','All')\n",
    "    ToxCast_L.insert(0,'timeh',24)\n",
    "    ToxCast_L.insert(0,'ft','All')\n",
    "\n",
    "    ToxCastTch = D.AC50.groupby(['dsstox_sid','name','technology'])\\\n",
    "                   .aggregate(dict(ac50=[_p05,_p50,_p95]))\n",
    "    ToxCastTch.columns=[i+j for i,j in ToxCastTch.columns]\n",
    "    ToxCastTch = ToxCastTch.reset_index()\n",
    "    ToxCastTch_L = ToxCastTch.melt(['dsstox_sid','name','technology'],\n",
    "                         var_name='potency_name',value_name='potency_val')\\\n",
    "                    .rename(columns=dict(technology='platform'))\n",
    "    ToxCastTch_L.insert(ToxCastTch_L.shape[1],'assay','ToxCast')\n",
    "    ToxCastTch_L.insert(0,'timeh',24)\n",
    "    ToxCastTch_L.insert(0,'ft','All')\n",
    "\n",
    "    ToxCastTchFt = D.AC50.groupby(['dsstox_sid','name','technology','aenm'])\\\n",
    "                   .aggregate(dict(ac50=[_p05,_p50,_p95]))\n",
    "    ToxCastTchFt.columns=[i+j for i,j in ToxCastTchFt.columns]\n",
    "    ToxCastTchFt = ToxCastTchFt.reset_index()\n",
    "    ToxCastTchFt_L = ToxCastTchFt.melt(['dsstox_sid','name','technology','aenm'],\n",
    "                         var_name='potency_name',value_name='potency_val')\\\n",
    "                    .rename(columns=dict(technology='platform',\n",
    "                                         aenm='ft'))\n",
    "    ToxCastTchFt_L.insert(ToxCastTchFt_L.shape[1],'assay','ToxCast')\n",
    "    ToxCastTchFt_L.insert(0,'timeh',24)\n",
    "    \n",
    "    Tx_HepRn = D.AC50[D.AC50.cell=='Hepat'].groupby(['dsstox_sid','name'])\\\n",
    "                   .aggregate(dict(ac50=[_p05,_p50,_p95]))\n",
    "    Tx_HepRn.columns=[i+j for i,j in Tx_HepRn.columns]\n",
    "    Tx_HepRn = Tx_HepRn.reset_index()\n",
    "    Tx_HepRn_L = Tx_HepRn.melt(['dsstox_sid','name'],\n",
    "                         var_name='potency_name',value_name='potency_val')\n",
    "    Tx_HepRn_L.insert(0,'assay','ToxCast')\n",
    "    Tx_HepRn_L.insert(0,'technology','APR:HepRn')\n",
    "    Tx_HepRn_L.insert(0,'timeh',24)\n",
    "    Tx_HepRn_L.insert(0,'ft','All')\n",
    "\n",
    "    Tx_HepRnTm = D.AC50[D.AC50.cell=='Hepat'].groupby(['dsstox_sid','name','timeh'])\\\n",
    "                   .aggregate(dict(ac50=[_p05,_p50,_p95]))\n",
    "    Tx_HepRnTm.columns=[i+j for i,j in Tx_HepRnTm.columns]\n",
    "    Tx_HepRnTm = Tx_HepRnTm.reset_index()\n",
    "    Tx_HepRnTm.loc[:,'timeh'] = Tx_HepRnTm.timeh.astype(np.uint)\n",
    "    Tx_HepRnTm_L = Tx_HepRnTm.melt(['dsstox_sid','name','timeh'],\n",
    "                         var_name='potency_name',value_name='potency_val')\\\n",
    "                    .rename(columns=dict(technology='platform'))\n",
    "    Tx_HepRnTm_L.insert(0,'assay','ToxCast')\n",
    "    Tx_HepRnTm_L.insert(0,'technology','APR:HepRnTm')\n",
    "    Tx_HepRnTm_L.insert(0,'ft','All')\n",
    "    \n",
    "    D.potency = pd.concat((ToxCast_L,ToxCastTch_L,Tx_HepRn_L,Tx_HepRnTm_L,ToxCastTchFt_L))\n",
    "    D.potency['days_ivt'] = D.potency.timeh/24\n",
    "    D.potency.insert(D.potency.shape[1],'potency_meth',D.potency_meth)"
   ]
  },
  {
   "cell_type": "markdown",
   "metadata": {},
   "source": [
    "#### Store Final ToxCast Hits "
   ]
  },
  {
   "cell_type": "code",
   "execution_count": 18,
   "metadata": {},
   "outputs": [
    {
     "name": "stdout",
     "output_type": "stream",
     "text": [
      "tcpl:ac50 (12291, 11)\n",
      "tcpl:ac50:manual_qc (11751, 11)\n"
     ]
    }
   ],
   "source": [
    "\n",
    "HCI.potency.delete_many(dict(assay='ToxCast'))\n",
    "\n",
    "for D in TOXCAST:\n",
    "    print(D.potency_meth,D.potency.shape)\n",
    "    HCI.potency.insert_many(D.potency[FT_hits].to_dict('records'))\n"
   ]
  },
  {
   "cell_type": "code",
   "execution_count": 19,
   "metadata": {},
   "outputs": [],
   "source": [
    "for i in [ToxCast_L,ToxCastTch_L,Tx_HepRn_L,Tx_HepRnTm_L,ToxCastTchFt_L]: del(i)"
   ]
  },
  {
   "cell_type": "code",
   "execution_count": 20,
   "metadata": {},
   "outputs": [],
   "source": [
    "#assert HCI.potency.count_documents(dict(assay='HepRnTm',platform='APR'))==X1.shape[0]"
   ]
  },
  {
   "cell_type": "markdown",
   "metadata": {},
   "source": [
    "## HepRnAtg"
   ]
  },
  {
   "cell_type": "code",
   "execution_count": 21,
   "metadata": {},
   "outputs": [
    {
     "name": "stdout",
     "output_type": "stream",
     "text": [
      "tcpl:ac50\n",
      "tcpl:ac50:manual_qc\n"
     ]
    }
   ],
   "source": [
    "HEPRN_ATG=[]\n",
    "HCI.potency.delete_many(dict(assay='HepRnAtg'))\n",
    "\n",
    "for D1 in TOXCAST:\n",
    "    print(D1.potency_meth)\n",
    "    D2 = next(i for i in HEPRN if i.potency_meth==D1.potency_meth)\n",
    "    X1 = D1.AC50[D1.AC50.technology=='ATG'][['dsstox_sid','name','ac50']]\n",
    "    R = []\n",
    "    for th in [24,48,72]:\n",
    "        X = X1.copy()\n",
    "        X.insert(0,'timeh',th)\n",
    "        R.append(X)\n",
    "    Atg = pd.concat(R)\n",
    "    \n",
    "    HepRn= D2.AC50[['dsstox_sid','name','ac50','timeh']]\n",
    "    \n",
    "    HepRnAtg = pd.concat((Atg,HepRn)).groupby(['dsstox_sid','name','timeh'])\\\n",
    "                .aggregate(dict(ac50=[_p05,_p50,_p95]))\n",
    "    HepRnAtg.columns=[i+j for i,j in HepRnAtg.columns]\n",
    "    HepRnAtg = HepRnAtg.reset_index()\n",
    "\n",
    "\n",
    "    HepRnAtg_L = HepRnAtg.melt(['dsstox_sid','name','timeh'],\n",
    "                          var_name='potency_name',value_name='potency_val')\n",
    "    HepRnAtg_L.insert(0,'assay','HepRnAtg')\n",
    "    HepRnAtg_L.insert(0,'platform','APR:HepRn:Tm|ToxCast:ATG')\n",
    "    HepRnAtg_L.insert(0,'ft','All')\n",
    "    HepRnAtg_L.insert(0,'days_ivt',HepRnAtg_L.timeh/24)\n",
    "    HepRnAtg_L.insert(0,'potency_meth',D1.potency_meth)\n",
    "    \n",
    "        \n",
    "    HCI.potency.insert_many(HepRnAtg_L.to_dict('records'))"
   ]
  },
  {
   "cell_type": "markdown",
   "metadata": {
    "toc-hr-collapsed": false
   },
   "source": [
    "# IVIV extrapolation"
   ]
  },
  {
   "cell_type": "markdown",
   "metadata": {},
   "source": [
    "## Parallel machine"
   ]
  },
  {
   "cell_type": "code",
   "execution_count": 44,
   "metadata": {},
   "outputs": [
    {
     "data": {
      "text/plain": [
       "<AsyncResult: execute>"
      ]
     },
     "execution_count": 44,
     "metadata": {},
     "output_type": "execute_result"
    }
   ],
   "source": [
    "import os\n",
    "import ipyparallel as PP\n",
    "\n",
    "RC=PP.Client(profile='pb_parallel')\n",
    "d_view=RC[:]\n",
    "lb_view = RC.load_balanced_view()\n",
    "lb_view.block = True\n",
    "x=open(\"../env3.py\",'r').read()\n",
    "d_view.execute(x)"
   ]
  },
  {
   "cell_type": "markdown",
   "metadata": {},
   "source": [
    "## Tasks"
   ]
  },
  {
   "cell_type": "code",
   "execution_count": 117,
   "metadata": {},
   "outputs": [
    {
     "data": {
      "text/plain": [
       "28104"
      ]
     },
     "execution_count": 117,
     "metadata": {},
     "output_type": "execute_result"
    }
   ],
   "source": [
    "WORK0 = []\n",
    "\n",
    "CH_tk = HCI.heprn_iviv.distinct('name')\n",
    "for R in HCI.potency.find(dict(name={'$in':CH_tk},\n",
    "                               #assay={'$in':['HepRnAtg']}\n",
    "                              ),\n",
    "                          dict(_id=0)):\n",
    "    R.update(dict(days_ivv=[90,365*2]))\n",
    "    WORK0.append(R)\n",
    "len(WORK0)"
   ]
  },
  {
   "cell_type": "code",
   "execution_count": 270,
   "metadata": {},
   "outputs": [],
   "source": [
    "# from tk.httk import *\n",
    "# HCI.potency_aed.drop()\n",
    "# HCI.potency_error.drop()\n",
    "\n",
    "# w=WORK0[0]\n",
    "# runCalcAllAED(dbc_iviv=HCI.heprn_iviv,dbc_sav=HCI.potency_aed,\n",
    "#               dbc_err=HCI.potency_error,**w)"
   ]
  },
  {
   "cell_type": "code",
   "execution_count": 115,
   "metadata": {},
   "outputs": [
    {
     "name": "stdout",
     "output_type": "stream",
     "text": [
      "Start ...  2019-08-30 00:08:37 tasks =  915\n",
      "End  2019-08-30 00:09:27 tasks =  915\n"
     ]
    }
   ],
   "source": [
    "import datetime\n",
    "HCI.potency_aed.drop()\n",
    "HCI.potency_error.drop()\n",
    "\n",
    "print(\"Start ... \", datetime.datetime.now().strftime(\"%Y-%m-%d %H:%M:%S\"), \"tasks = \",len(WORK0))\n",
    "\n",
    "RES = lb_view.map(lambda x: runCalcAllAED(dbc_iviv=HCI.heprn_iviv,\n",
    "                                          dbc_sav=HCI.potency_aed,\n",
    "                                          dbc_err=HCI.potency_error,**x),\n",
    "                  WORK0)\n",
    "\n",
    "print(\"End \", datetime.datetime.now().strftime(\"%Y-%m-%d %H:%M:%S\"), \"tasks = \",len(WORK0))"
   ]
  },
  {
   "cell_type": "code",
   "execution_count": 116,
   "metadata": {},
   "outputs": [
    {
     "data": {
      "text/plain": [
       "0"
      ]
     },
     "execution_count": 116,
     "metadata": {},
     "output_type": "execute_result"
    }
   ],
   "source": [
    "HCI.potency_error.count_documents({})"
   ]
  },
  {
   "cell_type": "code",
   "execution_count": 97,
   "metadata": {},
   "outputs": [
    {
     "data": {
      "text/plain": [
       "'days_ivv_1'"
      ]
     },
     "execution_count": 97,
     "metadata": {},
     "output_type": "execute_result"
    }
   ],
   "source": [
    "HCI.potency_aed.create_index('assay')\n",
    "HCI.potency_aed.create_index('dsstox_sid')\n",
    "HCI.potency_aed.create_index('name')\n",
    "HCI.potency_aed.create_index('study_type')\n",
    "HCI.potency_aed.create_index('days_ivv')\n"
   ]
  },
  {
   "cell_type": "code",
   "execution_count": 119,
   "metadata": {},
   "outputs": [
    {
     "data": {
      "text/plain": [
       "['tcpl:ac50', 'tcpl:ac50:manual_qc']"
      ]
     },
     "execution_count": 119,
     "metadata": {},
     "output_type": "execute_result"
    }
   ],
   "source": [
    "HCI.potency_aed.distinct('potency_meth')"
   ]
  },
  {
   "cell_type": "markdown",
   "metadata": {},
   "source": [
    "## Load liver effect data "
   ]
  },
  {
   "cell_type": "code",
   "execution_count": 81,
   "metadata": {},
   "outputs": [
    {
     "data": {
      "text/plain": [
       "(13227, 57)"
      ]
     },
     "execution_count": 81,
     "metadata": {},
     "output_type": "execute_result"
    }
   ],
   "source": [
    "LIV_EFF = pd.DataFrame(list(HCI.toxref_rat_v2.find({},dict(_id=0))))\n",
    "LIV_EFF.shape"
   ]
  },
  {
   "cell_type": "markdown",
   "metadata": {},
   "source": [
    "## Effect clean-up "
   ]
  },
  {
   "cell_type": "code",
   "execution_count": 84,
   "metadata": {},
   "outputs": [
    {
     "name": "stdout",
     "output_type": "stream",
     "text": [
      "(276, 57)\n"
     ]
    },
    {
     "data": {
      "text/plain": [
       "<pymongo.results.InsertManyResult at 0x7f0d5f8d2ac8>"
      ]
     },
     "execution_count": 84,
     "metadata": {},
     "output_type": "execute_result"
    }
   ],
   "source": [
    "HCI.rat_effects_v2.drop()\n",
    "X = LIV_EFF\n",
    "Y = X[X.casrn.isin(CH_CAS1.casrn)]\n",
    "Y = Y[(Y.pod_type=='loael') & (Y.study_type.isin(['SUB','CHR']))]\n",
    "Y.effect_desc.replace({'[other]':'other',\n",
    "                       'nos':'other',\n",
    "                       'lesion(s) (nos)':'other',\n",
    "                       'accentuated lobular pattern':'other',\n",
    "                       'mineralization':'other',\n",
    "                       'discolored':'other',\n",
    "                       'pigmentation':'other',\n",
    "                       'absolute':'hepatomegaly',\n",
    "                       'pigment':'other',\n",
    "                       'enlarged':'hepatomegaly',\n",
    "                       'vacuolization cytoplasmic':'vacuolization',\n",
    "                       'hematopoietic cell proliferation erythrocytic':'hematopoietic cell prolif.',\n",
    "                       'hematopoietic cell proliferation': 'hematopoietic cell prolif.',\n",
    "                       'relative to brain weight':'hepatomegaly',\n",
    "                       'liver wt change (rel)':'hepatomegaly',\n",
    "                       'relative to body weight': 'hepatomegaly',\n",
    "                       'dilation':'other',\n",
    "                       'foam cell aggregation':'fatty change',\n",
    "                       'adenoma':'adenoma/carcinoma',\n",
    "                       'hyperplastic nodule (pre-neoplastic)':'pre-neoplastic nodule',\n",
    "                       'carcinoma':'adenoma/carcinoma',\n",
    "                       'spongiosis hepatis':'spongiosis heptis/cyst',\n",
    "                       'cyst':'spongiosis heptis/cyst',\n",
    "                       'adenoma/carcinoma combined':'adenoma/carcinoma'\n",
    "                      },\n",
    "                     inplace=True)\n",
    "\n",
    "Y.effect_desc.replace({k:k.capitalize() for k in Y.effect_desc.unique()},\n",
    "                      inplace=True)\n",
    "Y.rename(columns={'preferred_name':'name',\n",
    "                  'dsstox_substance_id':'dsstox_sid'},inplace=True)\n",
    "\n",
    "LIV_EFF1 = Y.copy()\n",
    "print(Y.shape)\n",
    "HCI.rat_effects_v2.insert_many(LIV_EFF1.to_dict('records'))"
   ]
  },
  {
   "cell_type": "markdown",
   "metadata": {},
   "source": [
    "## POD Summary"
   ]
  },
  {
   "cell_type": "code",
   "execution_count": 66,
   "metadata": {},
   "outputs": [],
   "source": [
    "def _p05(X):  return np.percentile(X,5)\n",
    "def _p95(X): return np.percentile(X,95)\n",
    "def _p50(X): return np.percentile(X,50)\n",
    "\n",
    "Dur = dict(SUB=90,CHR=365*2)\n",
    "\n",
    "TOX_POD = LIV_EFF1.groupby(['name','dsstox_sid','casrn','study_type'])\\\n",
    "            .aggregate(dict(pod_value=[_p05,_p50,_p95]))\n",
    "TOX_POD.columns = ['loael'+j for i,j in TOX_POD.columns]\n",
    "\n",
    "X = TOX_POD.reset_index()\n",
    "TOX_POD_L = X[X.study_type.isin(Dur.keys())]\\\n",
    "                .melt(['name','dsstox_sid','casrn','study_type'],\n",
    "                      var_name='pod_name',value_name='pod_value')\n",
    "\n",
    "TOX_POD_L.insert(5,'days_ivv',TOX_POD_L.study_type.apply(lambda i: Dur[i]))\n",
    "TOX_POD_L.insert(6,'effect','All')\n"
   ]
  },
  {
   "cell_type": "markdown",
   "metadata": {},
   "source": [
    "## POD Lesion Summary"
   ]
  },
  {
   "cell_type": "code",
   "execution_count": 67,
   "metadata": {},
   "outputs": [],
   "source": [
    "def _p05(X):  return np.percentile(X,5)\n",
    "def _p95(X): return np.percentile(X,95)\n",
    "def _p50(X): return np.percentile(X,50)\n",
    "\n",
    "Dur = dict(SUB=90,CHR=365*2)\n",
    "\n",
    "TOX_POD_EF = LIV_EFF1.groupby(['name','dsstox_sid','casrn','study_type','effect_desc'])\\\n",
    "                     .aggregate(dict(pod_value=[_p05,_p50,_p95]))\n",
    "TOX_POD_EF.columns = ['loael'+j for i,j in TOX_POD_EF.columns]\n",
    "\n",
    "X = TOX_POD_EF.reset_index()\n",
    "TOX_POD_EF_L = X[X.study_type.isin(Dur.keys())]\\\n",
    "                .melt(['name','dsstox_sid','casrn','study_type','effect_desc'],\n",
    "                      var_name='pod_name',value_name='pod_value')\\\n",
    "                .rename(columns=dict(effect_desc='effect'))\n",
    "TOX_POD_EF_L.insert(5,'days_ivv',TOX_POD_EF_L.study_type.apply(lambda i: Dur[i]))"
   ]
  },
  {
   "cell_type": "markdown",
   "metadata": {
    "toc-hr-collapsed": false
   },
   "source": [
    "## Store POD Data"
   ]
  },
  {
   "cell_type": "code",
   "execution_count": 68,
   "metadata": {},
   "outputs": [
    {
     "data": {
      "text/plain": [
       "<pymongo.results.InsertManyResult at 0x7f0d5cf8a6c8>"
      ]
     },
     "execution_count": 68,
     "metadata": {},
     "output_type": "execute_result"
    }
   ],
   "source": [
    "HCI.rat_pod_v2.drop()\n",
    "HCI.rat_pod_v2.insert_many(TOX_POD_L.to_dict('records'))\n",
    "HCI.rat_pod_v2.insert_many(TOX_POD_EF_L[TOX_POD_L.columns].to_dict('records'))"
   ]
  },
  {
   "cell_type": "markdown",
   "metadata": {
    "toc-hr-collapsed": false
   },
   "source": [
    "# IVIVE vs POD"
   ]
  },
  {
   "cell_type": "markdown",
   "metadata": {},
   "source": [
    "## Merge AED and POD data"
   ]
  },
  {
   "cell_type": "code",
   "execution_count": 120,
   "metadata": {},
   "outputs": [
    {
     "name": "stdout",
     "output_type": "stream",
     "text": [
      "2,4-Dichlorophenoxyacetic acid 90 (17712, 18)\n",
      "2,4-Dichlorophenoxyacetic acid 730 (13284, 18)\n",
      "Acetaminophen 90 (21384, 18)\n",
      "Acetochlor 90 (54864, 18)\n",
      "Acetochlor 730 (82296, 18)\n",
      "Alachlor 730 (84240, 18)\n",
      "Ametryn 730 (26568, 18)\n",
      "Bensulide 90 (174528, 18)\n",
      "Bensulide 730 (261792, 18)\n",
      "Bentazon 90 (0, 18)\n",
      "Boscalid 90 (37260, 18)\n",
      "Boscalid 730 (37260, 18)\n",
      "Carbaryl 730 (98064, 18)\n",
      "Chlorpropham 90 (45036, 18)\n",
      "Chlorpropham 730 (45036, 18)\n",
      "Cyclanilide 90 (41472, 18)\n",
      "Cyproconazole 90 (74520, 18)\n",
      "Cyprodinil 90 (215460, 18)\n",
      "Cyprodinil 730 (61560, 18)\n",
      "Di(2-ethylhexyl) phthalate 90 (43092, 18)\n",
      "Di(2-ethylhexyl) phthalate 730 (43092, 18)\n",
      "Dichlobenil 90 (11664, 18)\n",
      "Dichlobenil 730 (34992, 18)\n",
      "Dimethenamid 90 (42768, 18)\n",
      "Dimethenamid 730 (28512, 18)\n",
      "Diphenylamine 90 (59400, 18)\n",
      "Diphenylamine 730 (35640, 18)\n",
      "Dithiopyr 90 (74196, 18)\n",
      "Dithiopyr 730 (49464, 18)\n",
      "Diuron 730 (52488, 18)\n",
      "Ethofumesate 90 (46656, 18)\n",
      "Ethofumesate 730 (46656, 18)\n",
      "Etoxazole 90 (100440, 18)\n",
      "Etoxazole 730 (133920, 18)\n",
      "Fenarimol 730 (66312, 18)\n",
      "Fenbuconazole 90 (28296, 18)\n",
      "Fenbuconazole 730 (56592, 18)\n",
      "Fludioxonil 90 (52920, 18)\n",
      "Fludioxonil 730 (79380, 18)\n",
      "Flufenacet 90 (122472, 18)\n",
      "Flufenacet 730 (122472, 18)\n",
      "Flusilazole 90 (181440, 18)\n",
      "Flusilazole 730 (90720, 18)\n",
      "Halosulfuron-methyl 90 (16524, 18)\n",
      "Hexaconazole 90 (56592, 18)\n",
      "Hexaconazole 730 (56592, 18)\n",
      "Imazalil 90 (117288, 18)\n",
      "Imazalil 730 (156384, 18)\n",
      "Isazofos 730 (28512, 18)\n",
      "Isoxaflutole 730 (41580, 18)\n",
      "Lindane 90 (24840, 18)\n",
      "Lindane 730 (37260, 18)\n",
      "MCPA 90 (14580, 18)\n",
      "Novaluron 90 (20088, 18)\n",
      "Novaluron 730 (20088, 18)\n",
      "Oxadiazon 90 (114048, 18)\n",
      "Oxadiazon 730 (57024, 18)\n",
      "Permethrin 730 (97740, 18)\n",
      "Propamocarb hydrochloride 730 (7344, 18)\n",
      "Propyzamide 90 (43740, 18)\n",
      "Propyzamide 730 (58320, 18)\n",
      "Pyrimethanil 90 (46008, 18)\n",
      "Pyrimethanil 730 (61344, 18)\n",
      "Pyrithiobac-sodium 90 (13284, 18)\n",
      "Pyrithiobac-sodium 730 (13284, 18)\n",
      "Resmethrin 730 (131220, 18)\n",
      "Rimsulfuron 90 (22032, 18)\n",
      "Rimsulfuron 730 (14688, 18)\n",
      "S-Bioallethrin 90 (57888, 18)\n",
      "S-Bioallethrin 730 (57888, 18)\n",
      "Simazine 90 (18792, 18)\n",
      "Simazine 730 (28188, 18)\n",
      "Tetraconazole 90 (109836, 18)\n",
      "Tetraconazole 730 (219672, 18)\n",
      "Thidiazuron 90 (49248, 18)\n",
      "Thidiazuron 730 (49248, 18)\n",
      "Triadimefon 730 (64476, 18)\n",
      "Triclosan 730 (141912, 18)\n",
      "Triflumizole 90 (218700, 18)\n",
      "Triflumizole 730 (87480, 18)\n",
      "Triticonazole 90 (28296, 18)\n",
      "Triticonazole 730 (28296, 18)\n",
      "Zoxamide 730 (68472, 18)\n"
     ]
    }
   ],
   "source": [
    "HCI.potency_aed_pod.drop()\n",
    "\n",
    "TOX_POD = pd.DataFrame(HCI.rat_pod_v2.find({},dict(_id=0)))\n",
    "\n",
    "for (name,dsstox_sid,days_ivv),Xi in TOX_POD.groupby(['name','dsstox_sid','days_ivv']):\n",
    "    AEDi = pd.DataFrame(HCI.potency_aed.find(dict(dsstox_sid=dsstox_sid,days_ivv=int(days_ivv)),\n",
    "                                                  dict(_id=0)))\\\n",
    "             .merge(Xi,on=['name','days_ivv','dsstox_sid','casrn'])\n",
    "    print(name,days_ivv,AEDi.shape)\n",
    "    if AEDi.shape[0]>0:\n",
    "        HCI.potency_aed_pod.insert_many(AEDi.to_dict('records'))\n",
    "    \n",
    "del(AEDi)\n",
    "del(TOX_POD)"
   ]
  },
  {
   "cell_type": "code",
   "execution_count": 121,
   "metadata": {},
   "outputs": [
    {
     "data": {
      "text/plain": [
       "'platform_1'"
      ]
     },
     "execution_count": 121,
     "metadata": {},
     "output_type": "execute_result"
    }
   ],
   "source": [
    "HCI.potency_aed_pod.create_index('dsstox_sid')\n",
    "HCI.potency_aed_pod.create_index('casrn')\n",
    "HCI.potency_aed_pod.create_index('name')\n",
    "HCI.potency_aed_pod.create_index('study_type')\n",
    "HCI.potency_aed_pod.create_index('days_ivv')\n",
    "HCI.potency_aed_pod.create_index('days_ivt')\n",
    "HCI.potency_aed_pod.create_index('dose_metric')\n",
    "HCI.potency_aed_pod.create_index('ivive_method')\n",
    "HCI.potency_aed_pod.create_index('potency_meth')\n",
    "HCI.potency_aed_pod.create_index('potency_name')\n",
    "HCI.potency_aed_pod.create_index('pod_name')\n",
    "HCI.potency_aed_pod.create_index('assay')\n",
    "HCI.potency_aed_pod.create_index('platform')\n"
   ]
  },
  {
   "cell_type": "code",
   "execution_count": 122,
   "metadata": {},
   "outputs": [],
   "source": [
    "#HCI.potency_aed_pod.distinct('assay')\n",
    "#HCI.potency_aed_pod.count_documents(dict(assay='HepRnAtg'))"
   ]
  },
  {
   "cell_type": "markdown",
   "metadata": {},
   "source": [
    "## Compare AED and POD"
   ]
  },
  {
   "cell_type": "markdown",
   "metadata": {},
   "source": [
    "### Performance metrics"
   ]
  },
  {
   "cell_type": "code",
   "execution_count": 123,
   "metadata": {},
   "outputs": [],
   "source": [
    "# IVV= ['loael_p05','loael_p50','loael_p95']\n",
    "# IVT= ['aed_p05','aed_p50','aed_p95']\n",
    "# DM = ['auc','cmax','auc']\n",
    "\n",
    "# y = POD_tox\n",
    "# x = POD_name\n",
    "\n",
    "def calc_SSTotal(x,**kws):        \n",
    "    return ((x-x.mean())**2).sum()\n",
    "\n",
    "\n",
    "def calc_RMSE(x,y,**kws):\n",
    "    return np.sqrt(calc_Resid(x,y))\n",
    "\n",
    "def calc_R2(x,y,log_trans=False,**kws):    \n",
    "    r2 = 1-(calc_Resid(x,y)/calc_SSTotal(x))\n",
    "    if log_trans:\n",
    "        r2 = 10**r2\n",
    "    return r2\n",
    "\n",
    "\n",
    "def calc_pearson(x,y,**kws):\n",
    "    return sp.stats.pearsonr(x,y)[0]\n",
    "\n",
    "def calc_spearman(x,y,**kws):\n",
    "    return sp.stats.spearmanr(x,y)[0]\n",
    "\n",
    "def calc_spearman_p(x,y,**kws):\n",
    "    return sp.stats.spearmanr(x,y)[1]\n",
    "\n",
    "def calc_MeanFold_yx(x,y,log_trans=False,**kws):\n",
    "    \"\"\"Mean(y/x)\"\"\"\n",
    "    fc= np.mean(y-x)    \n",
    "    if log_trans:\n",
    "        fc = 10**fc\n",
    "    return fc\n",
    "\n",
    "def calc_LPR(x,y,**kws):\n",
    "    \"\"\"mean(y-x)\"\"\"\n",
    "    return np.mean(y-x)\n",
    "\n",
    "def calc_MeanFold_xy(x,y,log_trans=False,**kws):\n",
    "    fc= np.mean(x-y)    \n",
    "    if log_trans:\n",
    "        fc = 10**fc\n",
    "    return fc    \n",
    "\n",
    "def calc_Overpred(x,y,**kws):\n",
    "    \"\"\"Fraction \"\"\"\n",
    "    return  1.0*np.sum(y<x)/len(x)\n",
    "\n",
    "def calc_Underpred(x,y,**kws):\n",
    "    return  1.0*np.sum(y>x)/len(x)\n",
    "\n",
    "def calc_WithinLog10(x,y,**kws):\n",
    "    return  1.0*np.sum(np.abs(x-y)<=1)/len(x)\n",
    "\n",
    "def calc_BeyondLog10(x,y,**kws):\n",
    "    return  1.0*np.sum(np.abs(x-y)>1)/len(x)\n",
    "\n",
    "def calc_n(x,y,**kws):\n",
    "    return len(x)\n",
    "\n",
    "def calc_Underpred_MeanFold_xy(x,y,**kws):\n",
    "    return calc_MeanFold_xy(x[x<y],y[x<y],**kws)\n",
    "\n",
    "def calc_Overpred_MeanFold_yx(x,y,**kws):\n",
    "    return calc_MeanFold_yx(x[x>y],y[x>y],**kws)\n",
    "\n",
    "    \n",
    "Summary_F = dict(RMSE=calc_RMSE,\n",
    "                 R2=calc_R2,\n",
    "                 resid=calc_Resid,\n",
    "                 R_p=calc_pearson,\n",
    "                 R_s=calc_spearman,\n",
    "                 p_s=calc_spearman_p,\n",
    "                 PR=calc_MeanFold_yx,\n",
    "                 LPR = calc_LPR,\n",
    "                 n_chem=calc_n,\n",
    "                 LPR_lt_1=calc_WithinLog10,\n",
    "                 LPR_gt_l=calc_BeyondLog10,\n",
    "                 Underpred=calc_Underpred,\n",
    "                 Overpred=calc_Overpred,\n",
    "                 Underpred_PR=calc_Underpred_MeanFold_xy,\n",
    "                 Overpred_PR=calc_Overpred_MeanFold_yx\n",
    "                 )\n",
    "\n"
   ]
  },
  {
   "cell_type": "markdown",
   "metadata": {},
   "source": [
    "### Evaluate"
   ]
  },
  {
   "cell_type": "code",
   "execution_count": 124,
   "metadata": {},
   "outputs": [
    {
     "name": "stdout",
     "output_type": "stream",
     "text": [
      "SUB HepRn APR:HepRn:Tm 6732\n",
      "SUB HepRn APR:HepRn 2640\n",
      "SUB HepRn APR:HepRn:Tm:Ft 20028\n"
     ]
    },
    {
     "name": "stderr",
     "output_type": "stream",
     "text": [
      "/home/ishah/.conda/envs/py37a/lib/python3.6/site-packages/scipy/stats/stats.py:3399: PearsonRConstantInputWarning: An input array is constant; the correlation coefficent is not defined.\n",
      "  warnings.warn(PearsonRConstantInputWarning())\n"
     ]
    },
    {
     "name": "stdout",
     "output_type": "stream",
     "text": [
      "SUB HepRnAtg APR:HepRn:Tm|ToxCast:ATG 8784\n",
      "SUB ToxCast All 2928\n",
      "CHR HepRn APR:HepRn:Tm 8316\n",
      "CHR HepRn APR:HepRn 3228\n",
      "CHR HepRn APR:HepRn:Tm:Ft 26280\n",
      "CHR HepRnAtg APR:HepRn:Tm|ToxCast:ATG 10200\n",
      "CHR ToxCast All 3408\n"
     ]
    }
   ],
   "source": [
    "HCI.performance.drop()\n",
    "\n",
    "FX = ['study_type', 'assay','platform','ft','ivive_method','potency_meth',u'dose_metric',\n",
    "      'potency_name','pod_name','ft','effect','days_ivt']\n",
    "\n",
    "for study in ['SUB','CHR']:\n",
    "    for assay in ['HepRn','HepRnAtg','ToxCast']:\n",
    "        for platform in HCI.potency_aed_pod.find(dict(study_type=study,assay=assay)).distinct('platform'):\n",
    "            if platform not in ['APR:HepRn:Tm','APR:HepRn','APR:HepRn:Tm:Ft',\n",
    "                                 'APR:HepRn:Tm|ToxCast:ATG','All']: \n",
    "                continue\n",
    "            X = pd.DataFrame(HCI.potency_aed_pod.find(dict(platform=platform,\n",
    "                                                           study_type=study,\n",
    "                                                           assay=assay,\n",
    "                                                           pod_name='loael_p05',\n",
    "                                                           potency_name='ac50_p05'\n",
    "                                                          )))\n",
    "            print(study,assay,platform,X.shape[0])\n",
    "            RES=[]\n",
    "            for F_i,X_i in X.groupby(FX):\n",
    "                if X_i.shape[0]<2: continue\n",
    "                R = dict(zip(FX,F_i))\n",
    "                R.update({k:f(np.log10(X_i['aed']),np.log10(X_i['pod_value']),\n",
    "                              log_trans=True) for k,f in Summary_F.items()})\n",
    "\n",
    "                HCI.performance.insert_one(R)\n",
    "            "
   ]
  },
  {
   "cell_type": "code",
   "execution_count": 126,
   "metadata": {},
   "outputs": [
    {
     "name": "stdout",
     "output_type": "stream",
     "text": [
      "SUB ToxCast BSK 60456\n",
      "SUB ToxCast CLD 21228\n",
      "SUB ToxCast ATG 51732\n",
      "SUB ToxCast NVS 43908\n",
      "SUB ToxCast APR 22416\n",
      "SUB ToxCast ACEA 9324\n",
      "SUB ToxCast OT 8940\n",
      "SUB ToxCast nan 4464\n",
      "SUB ToxCast CEETOX 4920\n",
      "SUB ToxCast TOX21 96\n",
      "CHR ToxCast BSK 77136\n",
      "CHR ToxCast CLD 25716\n",
      "CHR ToxCast ATG 64668\n",
      "CHR ToxCast NVS 50664\n",
      "CHR ToxCast APR 32832\n",
      "CHR ToxCast ACEA 10800\n",
      "CHR ToxCast OT 10368\n",
      "CHR ToxCast nan 6552\n",
      "CHR ToxCast CEETOX 6984\n",
      "CHR ToxCast TOX21 4776\n"
     ]
    }
   ],
   "source": [
    "#HCI.performance.drop()\n",
    "\n",
    "FX = ['study_type','assay','platform','ft','ivive_method','potency_meth',u'dose_metric',\n",
    "      'potency_name','pod_name','ft','effect','days_ivt']\n",
    "\n",
    "for study in ['SUB','CHR']:\n",
    "    for assay in ['ToxCast']:\n",
    "        for platform in HCI.potency_aed_pod.find(dict(study_type=study,assay=assay)).distinct('platform'):\n",
    "            if platform in ['APR:HepRn:Tm','APR:HepRn','APR:HepRn:Tm:Ft',\n",
    "                            'APR:HepRn:Tm|ToxCast:ATG','All']: \n",
    "                continue\n",
    "            X = pd.DataFrame(HCI.potency_aed_pod.find(dict(platform=platform,\n",
    "                                                           study_type=study,\n",
    "                                                           assay=assay,\n",
    "                                                           pod_name='loael_p05',\n",
    "                                                           potency_name='ac50_p05'\n",
    "                                                          )))\n",
    "            print(study,assay,platform,X.shape[0])\n",
    "            RES=[]\n",
    "            for F_i,X_i in X.groupby(FX):\n",
    "                if X_i.shape[0]<2: continue\n",
    "                R = dict(zip(FX,F_i))\n",
    "                R.update({k:f(np.log10(X_i['aed']),np.log10(X_i['pod_value']),\n",
    "                              log_trans=True) for k,f in Summary_F.items()})\n",
    "                HCI.performance.insert_one(R)\n",
    "            "
   ]
  },
  {
   "cell_type": "code",
   "execution_count": 125,
   "metadata": {},
   "outputs": [
    {
     "name": "stdout",
     "output_type": "stream",
     "text": [
      "study_type\n",
      "assay\n",
      "platform\n",
      "days_ivt\n",
      "days_ivv\n",
      "potency_name\n",
      "pod_name\n",
      "ivive_method\n",
      "potency_meth\n",
      "ft\n",
      "dose_metric\n"
     ]
    }
   ],
   "source": [
    "for i in ['study_type','assay','platform','days_ivt','days_ivv','potency_name','pod_name',\n",
    "          'ivive_method','potency_meth','ft','dose_metric']:\n",
    "    print(i)\n",
    "    HCI.performance.create_index(i)"
   ]
  },
  {
   "cell_type": "code",
   "execution_count": null,
   "metadata": {},
   "outputs": [],
   "source": []
  }
 ],
 "metadata": {
  "kernelspec": {
   "display_name": "tiptox",
   "language": "python",
   "name": "tiptox"
  },
  "language_info": {
   "codemirror_mode": {
    "name": "ipython",
    "version": 3
   },
   "file_extension": ".py",
   "mimetype": "text/x-python",
   "name": "python",
   "nbconvert_exporter": "python",
   "pygments_lexer": "ipython3",
   "version": "3.8.1"
  }
 },
 "nbformat": 4,
 "nbformat_minor": 4
}
